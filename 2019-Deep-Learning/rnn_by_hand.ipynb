{
 "cells": [
  {
   "cell_type": "markdown",
   "metadata": {
    "collapsed": true
   },
   "source": [
    "# Recurrent Neural Network Example\n",
    "\n",
    "Build a recurrent neural network (LSTM) with TensorFlow.\n",
    "\n",
    "- Author: Aymeric Damien\n",
    "- Adapted by: Hadi Daneshmand\n",
    "- Project: https://github.com/aymericdamien/TensorFlow-Examples/"
   ]
  },
  {
   "cell_type": "markdown",
   "metadata": {},
   "source": [
    "We would like to implement the following simple RNN network in tensorflow \n",
    "\n",
    "\n",
    "$$ h_t = \\alpha(W h_{t-1} + U x_{t}+ b)$$\n",
    "\n",
    "<img src=\"http://colah.github.io/posts/2015-08-Understanding-LSTMs/img/RNN-unrolled.png\" alt=\"nn\" style=\"width: 600px;\"/>"
   ]
  },
  {
   "cell_type": "code",
   "execution_count": 2,
   "metadata": {},
   "outputs": [
    {
     "name": "stderr",
     "output_type": "stream",
     "text": [
      "/Library/Frameworks/Python.framework/Versions/3.5/lib/python3.5/importlib/_bootstrap.py:222: RuntimeWarning: numpy.dtype size changed, may indicate binary incompatibility. Expected 96, got 88\n",
      "  return f(*args, **kwds)\n",
      "/Library/Frameworks/Python.framework/Versions/3.5/lib/python3.5/importlib/_bootstrap.py:222: RuntimeWarning: numpy.dtype size changed, may indicate binary incompatibility. Expected 96, got 88\n",
      "  return f(*args, **kwds)\n",
      "/Library/Frameworks/Python.framework/Versions/3.5/lib/python3.5/importlib/_bootstrap.py:222: RuntimeWarning: numpy.dtype size changed, may indicate binary incompatibility. Expected 96, got 88\n",
      "  return f(*args, **kwds)\n"
     ]
    },
    {
     "name": "stdout",
     "output_type": "stream",
     "text": [
      "304831920000.0\n"
     ]
    }
   ],
   "source": [
    "# Source:  exercise 9 of ETH deep learning course 2017\n",
    "import tensorflow as tf\n",
    "import numpy as np\n",
    "import os\n",
    "\n",
    "data_dim, num_hid = 50, 20\n",
    "sequence_length = 10 # this is hard-coded, but would vary between training samples in a real program\n",
    "\n",
    "with tf.Session().as_default() as sess:\n",
    "    W = tf.Variable(np.random.normal(size=(num_hid, num_hid)).astype(np.float32), name='W')\n",
    "    U = tf.Variable(np.random.normal(size=(num_hid, data_dim)).astype(np.float32), name='U')\n",
    "    b = tf.Variable(np.zeros(num_hid).astype(np.float32))\n",
    "\n",
    "    init = tf.global_variables_initializer()\n",
    "    sess.run(init)\n",
    "\n",
    "    def step(i, h, x):\n",
    "        xi = tf.gather(x, i) # get ith sample in the sequene\n",
    "        Wh = tf.matmul(W, tf.expand_dims(h, 1)) # hidden transititon\n",
    "        Ux = tf.matmul(U, tf.expand_dims(xi, 1)) # include sample\n",
    "        s = tf.squeeze(Wh + Ux) + b # sum contributions of hidden, sample and bias\n",
    "        h = tf.nn.relu(s) # nonlinearity\n",
    "        return i + 1, h, x # these outputs will be given to the stopping condition as well as the next step\n",
    "\n",
    "    h_init = np.zeros(num_hid).astype(np.float32) # initial hidden state\n",
    "    data_point = np.random.rand(sequence_length, data_dim).astype(np.float32)\n",
    "    _, h_fin, _ = tf.while_loop(\n",
    "            lambda i, h, x: tf.less(i, sequence_length), # this is called every iteration, if it outputs false, the loop stops\n",
    "            step,\n",
    "            [0, h_init, data_point]) # initial data\n",
    "    loss = tf.reduce_sum(tf.square(h_fin))\n",
    "\n",
    "    grads = tf.gradients(loss, [W, U, b]) # gradient computation as usual\n",
    "    print(sess.run(loss))"
   ]
  }
 ],
 "metadata": {
  "anaconda-cloud": {},
  "kernelspec": {
   "display_name": "Python 3",
   "language": "python",
   "name": "python3"
  },
  "language_info": {
   "codemirror_mode": {
    "name": "ipython",
    "version": 3
   },
   "file_extension": ".py",
   "mimetype": "text/x-python",
   "name": "python",
   "nbconvert_exporter": "python",
   "pygments_lexer": "ipython3",
   "version": "3.5.2"
  }
 },
 "nbformat": 4,
 "nbformat_minor": 1
}
