{
 "cells": [
  {
   "cell_type": "markdown",
   "metadata": {},
   "source": [
    "# Loading libraries"
   ]
  },
  {
   "cell_type": "code",
   "execution_count": 4,
   "metadata": {
    "collapsed": true
   },
   "outputs": [],
   "source": [
    "import tensorflow as tf\n",
    "import numpy as np\n",
    "import math\n",
    "import pandas as pd\n",
    "import matplotlib.pyplot as plt\n",
    "get_ipython().magic('matplotlib inline')\n",
    "\n",
    "sess = tf.InteractiveSession()\n",
    "\n",
    "tf.set_random_seed(0)\n",
    "np.random.seed(0)\n",
    "rng = np.random.RandomState()"
   ]
  },
  {
   "cell_type": "markdown",
   "metadata": {},
   "source": [
    "# Importing mnist dataset"
   ]
  },
  {
   "cell_type": "code",
   "execution_count": 5,
   "metadata": {
    "collapsed": true
   },
   "outputs": [],
   "source": [
    "mnist = tf.keras.datasets.mnist\n",
    "(x_train, y_train),(x_test, y_test) = mnist.load_data()\n",
    "x_train, x_test = x_train / 255.0, x_test / 255.0\n",
    "x_train = np.reshape(x_train, [-1, 28*28])\n",
    "x_test = np.reshape(x_test, [-1, 28*28])\n",
    "y_train = tf.keras.utils.to_categorical(y_train, 10)\n",
    "y_test = tf.keras.utils.to_categorical(y_test, 10)"
   ]
  },
  {
   "cell_type": "markdown",
   "metadata": {},
   "source": [
    "## Validation data split"
   ]
  },
  {
   "cell_type": "code",
   "execution_count": 6,
   "metadata": {
    "collapsed": true
   },
   "outputs": [],
   "source": [
    "x_train, x_val = x_train[:55000], x_train[55000:]\n",
    "y_train, y_val = y_train[:55000], y_train[55000:]"
   ]
  },
  {
   "cell_type": "markdown",
   "metadata": {},
   "source": [
    "# Network Parameters"
   ]
  },
  {
   "cell_type": "code",
   "execution_count": 7,
   "metadata": {
    "collapsed": true
   },
   "outputs": [],
   "source": [
    "n_input        = ...\n",
    "n_hidden_1     = ...\n",
    "n_hidden_2     = ...\n",
    "n_hidden_3     = ..."
   ]
  },
  {
   "cell_type": "markdown",
   "metadata": {},
   "source": [
    "# Training Parameters"
   ]
  },
  {
   "cell_type": "code",
   "execution_count": 8,
   "metadata": {
    "collapsed": true
   },
   "outputs": [],
   "source": [
    "learning_rate   = 0.001\n",
    "training_epochs = 20\n",
    "batch_size      = 100\n",
    "display_step    = 1"
   ]
  },
  {
   "cell_type": "markdown",
   "metadata": {},
   "source": [
    "# Xavier Initialization"
   ]
  },
  {
   "cell_type": "code",
   "execution_count": 9,
   "metadata": {
    "collapsed": true
   },
   "outputs": [],
   "source": [
    "def xavier_init(dim_in, dim_out, constant=4):\n",
    "    ..."
   ]
  },
  {
   "cell_type": "markdown",
   "metadata": {},
   "source": [
    "# Initializing weights & biases"
   ]
  },
  {
   "cell_type": "code",
   "execution_count": 10,
   "metadata": {
    "collapsed": true
   },
   "outputs": [],
   "source": [
    "weights = {\n",
    "    'encoder_h1': ...,\n",
    "    'encoder_h2': ...,\n",
    "    'decoder_h1': ...,\n",
    "    'decoder_h2': ...\n",
    "}\n",
    "biases = {\n",
    "    'encoder_b1': ...,\n",
    "    'encoder_b2': ...,\n",
    "    'decoder_b1': ...,\n",
    "    'decoder_b2': ...\n",
    "}"
   ]
  },
  {
   "cell_type": "markdown",
   "metadata": {},
   "source": [
    "# Creating Encoder"
   ]
  },
  {
   "cell_type": "code",
   "execution_count": 11,
   "metadata": {
    "collapsed": true
   },
   "outputs": [],
   "source": [
    "def encoder(x, activ_fnc=tf.nn.sigmoid):\n",
    "    ..."
   ]
  },
  {
   "cell_type": "markdown",
   "metadata": {},
   "source": [
    "# Creating Decoder"
   ]
  },
  {
   "cell_type": "code",
   "execution_count": 12,
   "metadata": {
    "collapsed": true
   },
   "outputs": [],
   "source": [
    "def decoder(x, activ_fnc=tf.nn.sigmoid):\n",
    "    ..."
   ]
  },
  {
   "cell_type": "markdown",
   "metadata": {},
   "source": [
    "# Initializing Model"
   ]
  },
  {
   "cell_type": "code",
   "execution_count": 13,
   "metadata": {
    "collapsed": true
   },
   "outputs": [],
   "source": [
    "x_plh = tf.placeholder(\"float\", [None, n_input])"
   ]
  },
  {
   "cell_type": "code",
   "execution_count": 14,
   "metadata": {
    "collapsed": true
   },
   "outputs": [],
   "source": [
    "enc_model = encoder(x_plh)\n",
    "dec_model = decoder(enc_model)"
   ]
  },
  {
   "cell_type": "code",
   "execution_count": 15,
   "metadata": {
    "collapsed": true
   },
   "outputs": [],
   "source": [
    "y_pred = dec_model\n",
    "y_gt   = x_plh"
   ]
  },
  {
   "cell_type": "markdown",
   "metadata": {},
   "source": [
    "## Defining loss-function & optimizer"
   ]
  },
  {
   "cell_type": "code",
   "execution_count": 16,
   "metadata": {
    "collapsed": true
   },
   "outputs": [],
   "source": [
    "x_error   = ...\n",
    "sq_error  = ..."
   ]
  },
  {
   "cell_type": "code",
   "execution_count": 18,
   "metadata": {
    "collapsed": true
   },
   "outputs": [],
   "source": [
    "optimizer = tf.train.AdamOptimizer(learning_rate=learning_rate).minimize(...)"
   ]
  },
  {
   "cell_type": "markdown",
   "metadata": {},
   "source": [
    "# Initializing the variables"
   ]
  },
  {
   "cell_type": "code",
   "execution_count": 19,
   "metadata": {
    "collapsed": true
   },
   "outputs": [],
   "source": [
    "init = tf.global_variables_initializer()\n",
    "sess.run(init)"
   ]
  },
  {
   "cell_type": "code",
   "execution_count": 20,
   "metadata": {
    "collapsed": true
   },
   "outputs": [],
   "source": [
    "def batch_indices(batch_nb, data_length, batch_size):\n",
    "  # Batch start and end index\n",
    "  start = int(batch_nb * batch_size)\n",
    "  end = int((batch_nb + 1) * batch_size)\n",
    "  # When there are not enough inputs left, we reuse some to complete the batch\n",
    "  if end > data_length:\n",
    "    shift = end - data_length\n",
    "    start -= shift\n",
    "    end -= shift\n",
    "  return start, end"
   ]
  },
  {
   "cell_type": "markdown",
   "metadata": {},
   "source": [
    "## Training"
   ]
  },
  {
   "cell_type": "code",
   "execution_count": 21,
   "metadata": {},
   "outputs": [
    {
     "name": "stdout",
     "output_type": "stream",
     "text": [
      "Epoch: 0001 , training loss= 105.5490570 , validation loss= 105.7122726\n",
      "Epoch: 0002 , training loss= 83.2081604 , validation loss= 83.5761871\n",
      "Epoch: 0003 , training loss= 74.4260025 , validation loss= 74.9829636\n",
      "Epoch: 0004 , training loss= 69.5491257 , validation loss= 70.2583466\n",
      "Epoch: 0005 , training loss= 66.1392517 , validation loss= 66.9494095\n",
      "Epoch: 0006 , training loss= 63.9538994 , validation loss= 64.8469162\n",
      "Epoch: 0007 , training loss= 62.2195168 , validation loss= 63.1231384\n",
      "Epoch: 0008 , training loss= 60.8625984 , validation loss= 61.8106613\n",
      "Epoch: 0009 , training loss= 59.9058228 , validation loss= 60.8883629\n",
      "Epoch: 0010 , training loss= 59.0708504 , validation loss= 60.0503502\n",
      "Epoch: 0011 , training loss= 58.2696266 , validation loss= 59.2669868\n",
      "Epoch: 0012 , training loss= 57.5998306 , validation loss= 58.5955505\n",
      "Epoch: 0013 , training loss= 57.1306534 , validation loss= 58.1049232\n",
      "Epoch: 0014 , training loss= 56.7336464 , validation loss= 57.7275620\n",
      "Epoch: 0015 , training loss= 56.5034714 , validation loss= 57.5041389\n",
      "Epoch: 0016 , training loss= 55.9357719 , validation loss= 56.9344444\n",
      "Epoch: 0017 , training loss= 55.6308899 , validation loss= 56.6311493\n",
      "Epoch: 0018 , training loss= 55.3833313 , validation loss= 56.3699379\n",
      "Epoch: 0019 , training loss= 55.2224083 , validation loss= 56.2031517\n",
      "Epoch: 0020 , training loss= 54.9869003 , validation loss= 55.9826622\n",
      "Training finished!\n"
     ]
    },
    {
     "data": {
      "text/plain": [
       "<matplotlib.text.Text at 0x11d99e550>"
      ]
     },
     "execution_count": 21,
     "metadata": {},
     "output_type": "execute_result"
    },
    {
     "data": {
      "image/png": "[encoded data removed]",
      "text/plain": [
       "<matplotlib.figure.Figure at 0x13b3785f8>"
      ]
     },
     "metadata": {},
     "output_type": "display_data"
    }
   ],
   "source": [
    "train_errors = []\n",
    "valid_errors = []\n",
    "for epoch in range(training_epochs):\n",
    "    nb_batches = int(math.ceil(float(len(x_train)) / batch_size))\n",
    "    assert nb_batches * batch_size >= len(x_train)\n",
    "\n",
    "    # Indices to re-shuffle training set for every epoch\n",
    "    index_shuf = list(range(len(x_train)))\n",
    "    rng.shuffle(index_shuf)\n",
    "\n",
    "    # Loop over all batches\n",
    "    for batch in range(nb_batches):\n",
    "        start, end = batch_indices(batch, len(x_train), batch_size)\n",
    "        sess.run(optimizer, feed_dict={x_plh: x_train[index_shuf[start:end]]})\n",
    "      \n",
    "    train_loss = sess.run(x_error, feed_dict={x_plh: x_train})\n",
    "    validation_loss = sess.run(x_error, feed_dict={x_plh: x_val})\n",
    "    train_errors.append(train_loss)\n",
    "    valid_errors.append(validation_loss)\n",
    "    if epoch % display_step == 0:\n",
    "        print(\"Epoch:\", '%04d' % (epoch + 1), \", training loss=\", \"{:.7f}\".format(train_loss), \", validation loss=\",\n",
    "              \"{:.7f}\".format(validation_loss))\n",
    "\n",
    "print(\"Training finished!\")\n",
    "plt.plot(valid_errors)\n",
    "plt.xlabel(\"# epochs\")\n",
    "plt.ylabel(\"Loss\")"
   ]
  },
  {
   "cell_type": "code",
   "execution_count": 22,
   "metadata": {},
   "outputs": [
    {
     "name": "stdout",
     "output_type": "stream",
     "text": [
      "Test loss:  55.0723953\n"
     ]
    }
   ],
   "source": [
    "test_loss = sess.run(x_error, feed_dict={x_plh: x_test})\n",
    "print(\"Test loss: \", \"{:.7f}\".format(test_loss))"
   ]
  },
  {
   "cell_type": "code",
   "execution_count": 23,
   "metadata": {},
   "outputs": [
    {
     "data": {
      "image/png": "[encoded data removed]",
      "text/plain": [
       "<matplotlib.figure.Figure at 0x13b144a58>"
      ]
     },
     "metadata": {},
     "output_type": "display_data"
    }
   ],
   "source": [
    "noSamples=5\n",
    "xsample = x_test[:noSamples]\n",
    "xreconst = sess.run(y_pred, feed_dict={x_plh: xsample})\n",
    "\n",
    "fig = plt.figure(figsize=(5, noSamples*2))\n",
    "for ii in range(noSamples):\n",
    "    plt.subplot(noSamples, 2, 2*ii + 1)\n",
    "    plt.title(\"Input\")\n",
    "    plt.imshow(np.reshape(xsample[ii], (28,28)), vmin=0, vmax=1)\n",
    "    plt.colorbar()\n",
    "    \n",
    "    plt.subplot(noSamples, 2, 2*ii + 2)\n",
    "    plt.title(\"Reconstruction\")\n",
    "    plt.imshow(np.reshape(xreconst[ii], (28,28)), vmin=0, vmax=1)\n",
    "    plt.colorbar()\n",
    "\n",
    "plt.tight_layout()\n",
    "fig.savefig('out_crossError_xavierInit.png', bbox_inches='tight')"
   ]
  },
  {
   "cell_type": "code",
   "execution_count": null,
   "metadata": {
    "collapsed": true
   },
   "outputs": [],
   "source": []
  }
 ],
 "metadata": {
  "anaconda-cloud": {},
  "kernelspec": {
   "display_name": "Python 3",
   "language": "python",
   "name": "python3"
  },
  "language_info": {
   "codemirror_mode": {
    "name": "ipython",
    "version": 3
   },
   "file_extension": ".py",
   "mimetype": "text/x-python",
   "name": "python",
   "nbconvert_exporter": "python",
   "pygments_lexer": "ipython3",
   "version": "3.6.1"
  }
 },
 "nbformat": 4,
 "nbformat_minor": 1
}
