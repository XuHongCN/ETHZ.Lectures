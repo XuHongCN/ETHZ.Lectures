{
    "cells": [
        {
            "cell_type": "markdown",
            "metadata": {},
            "source": [
                "# <center>Big Data For Engineers &ndash; Exercises</center>\n",
                "## <center>Spring 2020 &ndash; Week 2 &ndash; ETH Zurich</center>"
            ]
        },
        {
            "cell_type": "markdown",
            "metadata": {},
            "source": [
                "## Exercise 1: Storage devices \n",
                "\n",
                "In this exercise, we want to understand the differences between [SSD](https://en.wikipedia.org/wiki/Solid-state_drive), [HDD](https://en.wikipedia.org/wiki/Hard_disk_drive), and [SDRAM](https://en.wikipedia.org/wiki/Synchronous_dynamic_random-access_memory) in terms of capacity, speed and price. In simple terms, SDRAM (most commonly referred to as DRAM) is volatile storage (information is lost when the system is shutdown) while HDD and SSD are persistent storage (information is saved even after shutdown); SSD is an evolution of HDD where the mechanical disk was replaced by a single circuit. \n",
                "\n",
                "All these three types of devices are used for storing data, but do that at different costs.\n",
                "Your task is to fill in the table below by visiting your local online hardware store. \n",
                "For instance, you can visit Digitec.ch to explore the prices on [SSDs](https://www.digitec.ch/en/s1/producttype/ssd-545?tagIds=76), [HDDs](https://www.digitec.ch/en/s1/producttype/hard-drives-36?tagIds=76), and \n",
                "[SDRAMs](https://www.digitec.ch/en/s1/producttype/memory-2?tagIds=76). \n",
                "You are free to use any other website for filling the table. \n",
                "\n",
                "** You can modify the current \"markdown cell\" by double-clicking it and editing the table below**  \n",
                "** To return back from the editing mode to the view mode press *Ctrl+Enter*, or *Shift+Enter* **\n",
                "\n",
                "\n",
                "\n",
                "| Storage Device | Maximum capacity, GB | Price, CHF/GB  | Read speed, GB/s | Write speed, GB/s |\n",
                "| --------------:| --------------------:| --------------:|-----------------:|------------------:|\n",
                "| HDD            |                      |                |                  |                   | \n",
                "| SSD            |                      |                |                  |                   |\n",
                "| DRAM           |                      |                |                  |                   | \n",
                "\n",
                "\n",
                "### Questions:\n",
                "1. What type of storage devices above is the cheapest one? \n",
                "2. What type of storage devices above is the fastest in terms of read speed?\n",
                "\n"
            ]
        },
        {
            "cell_type": "markdown",
            "metadata": {},
            "source": [
                "## Exercise 2: HTTP"
            ]
        },
        {
            "cell_type": "markdown",
            "metadata": {},
            "source": [
                "HTTP is the underlying protocol used by the World Wide Web. It defines how messages are formatted and transmitted, and what actions Web servers and browsers should take in response to various commands.\n",
                "\n",
                "The HTTP protocol is based on requests (usually made by a client, eg: your web browser) and responses (usually made by a server hosting a particular website or application)."
            ]
        },
        {
            "cell_type": "markdown",
            "metadata": {},
            "source": [
                "Request<br><br>\n",
                "\n",
                "\n",
                "<font color=\"#990000\">POST</font> <font color=\"blue\">/path/index.html</font> <font color=\"#bf9000\">HTTP/1.1</font>  \n",
                "<font color=\"green\">Host: www .example.com  \n",
                "User-Agent: Mozilla/4.0</font>\n",
                "\n",
                "BookId=3131&Author=Asimov\n",
                "<br><br>---<br><br>\n",
                "<font color=\"#990000\">This fragment indicates the HTTP method used</font><br>\n",
                "<font color=\"blue\">This indicate the relative path of the resource</font><br>\n",
                "<font color=\"#bf9000\">This is the HTTP version</font><br>\n",
                "<font color=\"green\">These are the headers of the request (1 per line)</font><br>\n",
                "<font>This is the body of the request</font>"
            ]
        },
        {
            "cell_type": "markdown",
            "metadata": {},
            "source": [
                "Response<br><br>\n",
                "<font color=\"#bf9000\">HTTP/1.1</font> <font color=\"#990000\">200 OK</font>  \n",
                "<font color=\"green\">Date: Tue, 25 Sep 2018 09:48:34 GMT  \n",
                "Content-Type: text/html; charset=UTF-8  \n",
                "Content-Length: 138  \n",
                "</font>\n",
                "\n",
                "&lt;html> &lt;head> &lt;title>An Example Page&lt;/title>\n",
                "&lt;/head> &lt;body> Hello World, this is a very simple\n",
                "HTML document. &lt;/body> &lt;/html>\n",
                "<br><br>---<br><br>\n",
                "<font color=\"#990000\">This fragment indicates the status code of the response</font><br>\n",
                "<font color=\"#bf9000\">This is the HTTP version</font><br>\n",
                "<font color=\"green\">These are the headers of the response (1 per line)</font><br>\n",
                "<font>This is the body of the response</font>"
            ]
        },
        {
            "cell_type": "markdown",
            "metadata": {},
            "source": [
                "### HTTP Methods\n",
                "\n",
                "Consider a well-designed object storage service providing a REST API implemented over HTTP.\n",
                "\n",
                "1. Which HTTP method allows the retrieval of objects on the server? What do we mean by saying that it should be side-effect free?  \n",
                "2. Which HTTP methods allow the insertion and deletion of objects from the server, respectively?\n",
                "3. Which other generic method allows for sending information and/or receiving results?"
            ]
        },
        {
            "cell_type": "markdown",
            "metadata": {},
            "source": [
                "## Exercise 3: Storage"
            ]
        },
        {
            "cell_type": "markdown",
            "metadata": {},
            "source": [
                "### Object Storage, Scalability\n",
                "\n",
                "1. What are the four most important traits of Object Storage that allows scalability? \n",
                "2. What are the two ways through which you can scale beyond one machine?"
            ]
        },
        {
            "cell_type": "markdown",
            "metadata": {},
            "source": [
                "### Azure Blob Storage vs Amazon S3\n",
                "\n",
                "For each question give the answer for both: Azure Blob Storage and Amazon S3\n",
                "\n",
                "1. How are objects identified?\n",
                "2. What kind of objects can you create?"
            ]
        },
        {
            "cell_type": "markdown",
            "metadata": {},
            "source": [
                "## Exercise 4: Set up an Azure storage account\n",
                "\n",
                "In this exercise we will execute the following steps:\n",
                "1. Create a Blob storage.\n",
                "3. Test Blob storage by writing to it through Python.\n",
                "\n"
            ]
        },
        {
            "cell_type": "markdown",
            "metadata": {},
            "source": [
                "\n",
                "### Step 1: Create a Locally redundant storage\n",
                "\n",
                "1. First, you need to create a storage account. To do that, go to \"Storage accounts\" in the left menu. Click on \"Add\" at the top of the blade and fill out the following form. Choose the \"exercise01\" resource group or create a new one, select \"Locally redundant storage (LRS)\" as replication mode, and let all other values at their defaults.\n",
                "\n",
                "2. Open the new storage account (you may need to wait a while before it has been created), go to \"Access keys\" (under \"Settings\") and copy one of its keys to the clipboard.\n",
                "\n",
                "3. Paste the key, the account name, and some container name into the following cell and run the cell."
            ]
        },
        {
            "cell_type": "code",
            "execution_count": null,
            "metadata": {},
            "outputs": [],
            "source": [
                "# use the credentials from your server\n",
                "\n",
                "ACCOUNT_NAME = 'YOUR_STORAGE_ACCOUNT_NAME'\n",
                "ACCOUNT_KEY  = 'YOUR_KEY'\n",
                "CONTAINER_NAME = 'exercise02'"
            ]
        },
        {
            "cell_type": "markdown",
            "metadata": {},
            "source": [
                "\n",
                "###  Step 2: Install a management library for Azure storage  and import it\n",
                "1. Run three cells below for that"
            ]
        },
        {
            "cell_type": "code",
            "execution_count": null,
            "metadata": {},
            "outputs": [],
            "source": [
                "# uninstall the old version if present\n",
                "!pip uninstall azure-storage\n",
                "!pip uninstall azure"
            ]
        },
        {
            "cell_type": "code",
            "execution_count": null,
            "metadata": {},
            "outputs": [],
            "source": [
                "# install the proper packages\n",
                "!pip install --upgrade requests\n",
                "!pip install --upgrade cryptography\n",
                "!pip install azure\n",
                "!pip install azure-storage-blob"
            ]
        },
        {
            "cell_type": "code",
            "execution_count": null,
            "metadata": {},
            "outputs": [],
            "source": [
                "from azure.storage.blob import BlockBlobService\n",
                "from azure.storage.blob import PageBlobService\n",
                "from azure.storage.blob import AppendBlobService\n",
                "from azure.storage.blob import PublicAccess\n",
                "from azure.storage.blob import ContentSettings\n",
                "from azure.storage.blob import BlockListType\n",
                "from azure.storage.blob import BlobBlock"
            ]
        },
        {
            "cell_type": "markdown",
            "metadata": {},
            "source": [
                "### Step 3: Explore Concepts of Azure Blob Storage"
            ]
        },
        {
            "cell_type": "markdown",
            "metadata": {},
            "source": [
                "1. A container organizes a set of blobs. All blobs must be in a container. An account can contain an unlimited number of containers. A container can store an unlimited number of blobs. Note that the container name must be lowercase.\n",
                "![Image of blob](https://docs.microsoft.com/en-us/azure/includes/media/storage-blob-concepts-include/blob1.png)"
            ]
        },
        {
            "cell_type": "markdown",
            "metadata": {},
            "source": [
                "Block blobs let you upload large files to Azure Blob Storage. The maximum size of a block blob is about 4.78 TB.\n"
            ]
        },
        {
            "cell_type": "code",
            "execution_count": null,
            "metadata": {},
            "outputs": [],
            "source": [
                "blob_service = BlockBlobService(account_name=ACCOUNT_NAME, account_key=ACCOUNT_KEY)"
            ]
        },
        {
            "cell_type": "markdown",
            "metadata": {},
            "source": [
                "You can learn more about Python package for Azure Blob storage ([git_repo](https://github.com/Azure/azure-storage-python), [tutorial](https://docs.microsoft.com/en-us/azure/storage/blobs/storage-quickstart-blobs-python))"
            ]
        },
        {
            "cell_type": "markdown",
            "metadata": {},
            "source": [
                "### Step 4: Test your first container"
            ]
        },
        {
            "cell_type": "markdown",
            "metadata": {},
            "source": [
                "\n",
                "\n",
                "&nbsp;&nbsp;&nbsp; 1\\. Now we need to create a new container under the specified account. If the container with the same name already exists, the operation fails and returns False"
            ]
        },
        {
            "cell_type": "code",
            "execution_count": null,
            "metadata": {},
            "outputs": [],
            "source": [
                "status = blob_service.create_container(CONTAINER_NAME)\n",
                "#status = blob_service.create_container(CONTAINER_NAME, \n",
                "#         public_access=PublicAccess.Container) #create the server with public access\n",
                "if status==True:\n",
                "    print(\"We created a new container\")\n",
                "else:\n",
                "    print(\"Container already exists\")"
            ]
        },
        {
            "cell_type": "markdown",
            "metadata": {},
            "source": [
                "&nbsp;&nbsp;&nbsp; 2\\. Download a file to your Jupyter's virtual machine."
            ]
        },
        {
            "cell_type": "code",
            "execution_count": null,
            "metadata": {},
            "outputs": [],
            "source": [
                "!wget https://www.vetbabble.com/wp-content/uploads/2016/11/hiding-cat.jpg -O cat.jpg # wget downloads files through HTTP. The -O option indicates the name of the downloaded file."
            ]
        },
        {
            "cell_type": "markdown",
            "metadata": {},
            "source": [
                "&nbsp;&nbsp;&nbsp; 3\\. Finally, upload the file to the blob storage\n",
                "\n",
                "Note 1: The name of the file on local machine can differ from the name of the blob\n",
                "\n",
                "Note 2: After uploading the file, check that you can access the file through Azure portal (Storage Accounts -> select your storage account -> Containers -> 'exercise02').\n"
            ]
        },
        {
            "cell_type": "code",
            "execution_count": null,
            "metadata": {},
            "outputs": [],
            "source": [
                "local_file = \"cat.jpg\"\n",
                "\n",
                "blob_name = \"picture.jpg\"\n",
                "try:\n",
                "    blob_service.create_blob_from_path(\n",
                "        CONTAINER_NAME,\n",
                "        blob_name,\n",
                "        local_file,\n",
                "        content_settings=ContentSettings(content_type='image/jpg')\n",
                "    )\n",
                "    \n",
                "    print(blob_service.make_blob_url(CONTAINER_NAME,blob_name))\n",
                "except:\n",
                "    print (\"something wrong happened when uploading the data %s\"%blob_name)\n"
            ]
        },
        {
            "cell_type": "markdown",
            "metadata": {},
            "source": [
                "Let's also update a text file for later"
            ]
        },
        {
            "cell_type": "code",
            "execution_count": null,
            "metadata": {},
            "outputs": [],
            "source": [
                "%%bash\n",
                "echo \"Please don't use java\" > test.txt\n",
                "cat test.txt"
            ]
        },
        {
            "cell_type": "code",
            "execution_count": null,
            "metadata": {},
            "outputs": [],
            "source": [
                "local_file = \"test.txt\"\n",
                "blob_name = \"test_file.txt\"\n",
                "try:\n",
                "    blob_service.create_blob_from_path(\n",
                "        CONTAINER_NAME,\n",
                "        blob_name,\n",
                "        local_file,\n",
                "        content_settings=ContentSettings(content_type='text/plain;charset=UTF-8')\n",
                "    )\n",
                "\n",
                "    print(blob_service.make_blob_url(CONTAINER_NAME,blob_name))\n",
                "except:\n",
                "    print (\"something wrong happened when uploading the data %s\"%blob_name)"
            ]
        },
        {
            "cell_type": "markdown",
            "metadata": {},
            "source": [
                "&nbsp;&nbsp;&nbsp; 4\\. Try to open the link above\n",
                "\n",
                "By default, the new container is private, so you must specify your storage access key (as you did earlier) to download blobs from this container. If you want to make the blobs within the container available to everyone, you can create the container and pass the public access level using the following code.\n"
            ]
        },
        {
            "cell_type": "code",
            "execution_count": null,
            "metadata": {},
            "outputs": [],
            "source": [
                "blob_service.set_container_acl(CONTAINER_NAME, public_access=PublicAccess.Container)"
            ]
        },
        {
            "cell_type": "markdown",
            "metadata": {},
            "source": [
                "&nbsp;&nbsp;&nbsp; 5\\. After this change, anyone on the Internet can see blobs in a public container, but only you can modify or delete them.\n",
                "Now, try to open the link again (It takes few seconds to change access permisions)"
            ]
        },
        {
            "cell_type": "markdown",
            "metadata": {},
            "source": [
                "&nbsp;&nbsp;&nbsp; 6\\. List all blobs in the container"
            ]
        },
        {
            "cell_type": "markdown",
            "metadata": {},
            "source": [
                "To list the blobs in a container, use the list_blobs method. This method returns a generator. The following code outputs name, type, size and url of each blob in a container"
            ]
        },
        {
            "cell_type": "code",
            "execution_count": null,
            "metadata": {
                "scrolled": true
            },
            "outputs": [],
            "source": [
                "# List all blobs in the container\n",
                "blobs = blob_service.list_blobs(CONTAINER_NAME)\n",
                "for blob in blobs:\n",
                "    try:\n",
                "        print('Name: {} \\t\\t Type: {} \\t\\t Size: {}'.format(blob.name,blob.properties.blob_type, blob.properties.content_length)) \n",
                "        print(blob_service.make_blob_url(CONTAINER_NAME,blob.name)) #We can also print the url of a blob\n",
                "    except:\n",
                "        print(\"something went wrong\")"
            ]
        },
        {
            "cell_type": "markdown",
            "metadata": {},
            "source": [
                "&nbsp;&nbsp;&nbsp; 7\\. List all containers in your storage"
            ]
        },
        {
            "cell_type": "markdown",
            "metadata": {},
            "source": [
                "Similarly, you can list all containers in your account"
            ]
        },
        {
            "cell_type": "code",
            "execution_count": null,
            "metadata": {},
            "outputs": [],
            "source": [
                "# List all containers in your storage\n",
                "containers = blob_service.list_containers()\n",
                "for container in containers:\n",
                "    try:\n",
                "        print(container.name)\n",
                "    except:\n",
                "        print(\"something went wrong\")"
            ]
        },
        {
            "cell_type": "markdown",
            "metadata": {},
            "source": [
                "&nbsp;&nbsp;&nbsp; 8\\. Download blobs\n",
                "\n",
                "To download data from a blob, use get_blob_to_path, get_blob_to_stream, get_blob_to_bytes, or get_blob_to_text. They are high-level methods that perform the necessary chunking when the size of the data exceeds 64 MB.\n",
                "\n",
                "Note: The Name of a file after downloading can differ from the name of a blob\n",
                "\n",
                "The following example demonstrates using get_blob_to_path to download the content of your container and store it with names file_i where i is a sequential index."
            ]
        },
        {
            "cell_type": "code",
            "execution_count": null,
            "metadata": {
                "scrolled": true
            },
            "outputs": [],
            "source": [
                "LOCAL_DIRECT = \"./\"   \n",
                "\n",
                "blobs = blob_service.list_blobs(CONTAINER_NAME)\n",
                "i=0\n",
                "for blob in blobs:\n",
                "    local_file = LOCAL_DIRECT + 'file_{}'.format(str(i))\n",
                "    i=i+1\n",
                "    try:\n",
                "        blob_service.get_blob_to_path(CONTAINER_NAME, blob.name, local_file)\n",
                "        print(\"success for %s\"%local_file)\n",
                "    except:\n",
                "        print(\"something went wrong with the blob: %s\"%blob.name)"
            ]
        },
        {
            "cell_type": "code",
            "execution_count": null,
            "metadata": {},
            "outputs": [],
            "source": [
                "!ls"
            ]
        },
        {
            "cell_type": "markdown",
            "metadata": {},
            "source": [
                "&nbsp;&nbsp;&nbsp; 9\\. Delete blobs\n"
            ]
        },
        {
            "cell_type": "markdown",
            "metadata": {},
            "source": [
                "Finally, to delete a blob, we can use the method __delete_blob__."
            ]
        },
        {
            "cell_type": "code",
            "execution_count": null,
            "metadata": {},
            "outputs": [],
            "source": [
                "#Delete all blobs in the container\n",
                "blobs = blob_service.list_blobs(CONTAINER_NAME)\n",
                "for blob in blobs:      \n",
                "    try:\n",
                "        blob_service.delete_blob(CONTAINER_NAME, blob.name)\n",
                "        print(\"deleted  correctly : %s\"%blob.name)\n",
                "    except:\n",
                "        print(\"something went wrong with the blob: %s\"%blob.name)"
            ]
        },
        {
            "cell_type": "markdown",
            "metadata": {},
            "source": [
                "To check whether the container or the blob exists, the method  ```exists ``` can be used. "
            ]
        },
        {
            "cell_type": "code",
            "execution_count": null,
            "metadata": {},
            "outputs": [],
            "source": [
                "if (blob_service.exists(CONTAINER_NAME,blob.name)==True):\n",
                "     print(\"Blob %s exists\"%blob.name)\n",
                "if(blob_service.exists(CONTAINER_NAME)==True):\n",
                "    print(\"Container %s exists\"%CONTAINER_NAME)"
            ]
        },
        {
            "cell_type": "markdown",
            "metadata": {},
            "source": [
                "## Own exploration\n",
                "\n"
            ]
        },
        {
            "cell_type": "markdown",
            "metadata": {},
            "source": [
                "## Exercise 5:  Explore the REST API"
            ]
        },
        {
            "cell_type": "markdown",
            "metadata": {},
            "source": [
                "REpresentational State Transfer (REST), or RESTful, web services provide interoperability between computer systems on the Internet. REST-compliant web services allow the requesting systems to access and manipulate textual representations of web resources by using a uniform and predefined set of *stateless* operations. \n",
                "\n",
                "The most popular operations in REST are GET, POST, PUT, DELETE. A response may be in XML, HTML, JSON, or some other format.\n",
                "\n",
                "In this exercise we will use REST online client [ReqBin](https://reqbin.com/). \n",
                " \n",
                "**URLs** tells the server which resources the client wants to interact with.\n",
                "\n",
                "The **method** request tells the server what kind of action the client wants the server to take in.  \n",
                " \n",
                "**Headers** provide meta-information about a request.\n",
                " \n",
                "The request **body** contains the data the client wants to send the server.\n",
                "\n",
                "\n",
                "### Task 1.\n",
                "1. Use ReqBin to list all blobs in your container. For this use the following [REST request](https://docs.microsoft.com/en-us/rest/api/storageservices/list-blobs). What does it do? To avoid setting up an authentication you can make your container public.  \n",
                "    1. Access your container from all resources > your storage account > \"Blobs\" in the overview tab > your container name\n",
                "    2. On the top menu of the tab \"Change access level\" and set for public access level \"Container\"\n",
                "2. What is the response format of the request? \n",
                "3. Try to perform the following REST requests [Get Blob](https://docs.microsoft.com/en-us/rest/api/storageservices/get-blob), [Get Blob Properties](https://docs.microsoft.com/en-us/rest/api/storageservices/get-blob-properties), [Get Blob Metadata](https://docs.microsoft.com/en-us/rest/api/storageservices/get-blob-metadata) using ReqBin.\n",
                "\n"
            ]
        }
    ],
    "metadata": {
        "anaconda-cloud": {},
        "kernelspec": {
            "display_name": "Python 3",
            "language": "python",
            "name": "python3"
        },
        "language_info": {
            "codemirror_mode": {
                "name": "ipython",
                "version": 3
            },
            "file_extension": ".py",
            "mimetype": "text/x-python",
            "name": "python",
            "nbconvert_exporter": "python",
            "pygments_lexer": "ipython3",
            "version": "3.6.5"
        }
    },
    "nbformat": 4,
    "nbformat_minor": 1
}
