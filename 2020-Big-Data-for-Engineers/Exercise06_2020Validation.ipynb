{
  "cells": [
    {
      "metadata": {},
      "cell_type": "markdown",
      "source": "# <center>Big Data For Engineers &ndash; Exercises</center>\n## <center>Spring 2020 &ndash; Week 6 &ndash; ETH Zurich</center>\n## <center>XML validation</center>"
    },
    {
      "metadata": {},
      "cell_type": "markdown",
      "source": "\n## 1. XML Data Models &ndash; Information Sets\n\nXML \"Information Set\" provides an abstract representation of an XML document—it can be thought of as a set of rules on how one would draw an XML document on a whiteboard.\n\n\nDraw the Information Set trees for the following XML documents. You can confine your trees to only have the following types of information items: document information item, elements, character information items, and attributes."
    },
    {
      "metadata": {},
      "cell_type": "markdown",
      "source": "#### Document 1\n\n```xml\n<Burger>\n    <Bun>\n        <Pickles/>\n        <Cheese origin=\"Switzerland\" />\n        <Patty/>\n    </Bun>\n</Burger>\n```"
    },
    {
      "metadata": {},
      "cell_type": "markdown",
      "source": "#### Document 2\n```xml\n<Band name=\"Metallica\">\n    <Member>James Hetfield</Member>\n    <Member>Lars Ulrich</Member>\n    <Member>Kirk Hammett</Member>\n    <Member>Robert Trujillo</Member>\n</Band>\n```"
    },
    {
      "metadata": {},
      "cell_type": "markdown",
      "source": "#### Document 3\n```xml\n<catalog>\n   <!-- A list of books -->\n   <book id='bk101'>\n      <author>Gambardella, Matthew</author>\n      <title>XML Developer's Guide</title>\n      <genre>Computer</genre>\n      <price>44.95</price>\n      <publish_date version='hard' version2='soft'>2000-10-01</publish_date>\n   </book>\n</catalog>\n```"
    },
    {
      "metadata": {},
      "cell_type": "markdown",
      "source": "#### Document 4\n```xml\n<eth:eth xmlns:eth=\"http://www.ethz.ch\" \n         xmlns:ethdb=\"http://www.dbis.ethz.ch\" \n         date=\"11.11.2006\" \n         ethdb:date=\"12.11.2006\">\n   <eth:date>16.11.2017</eth:date>\n   <eth:president since=\"2015\">Prof. Dr. Lino Guzzella</eth:president>\n   <ethdb:Rektor>Prof. Dr. Sarah M. Springman</ethdb:Rektor>\n</eth:eth>\n```"
    },
    {
      "metadata": {},
      "cell_type": "markdown",
      "source": "## 2. Validate JSON\n\nIn this task we will use the validate function from python's jsonschema to validate Json objects.\n"
    },
    {
      "metadata": {},
      "cell_type": "markdown",
      "source": "First, import Json and the validate function."
    },
    {
      "metadata": {
        "trusted": true
      },
      "cell_type": "code",
      "source": "import json                                                                    \nfrom jsonschema import validate",
      "execution_count": 2,
      "outputs": []
    },
    {
      "metadata": {},
      "cell_type": "markdown",
      "source": "Define the schema."
    },
    {
      "metadata": {
        "trusted": true
      },
      "cell_type": "code",
      "source": "schema={'type': 'object', 'properties': {'target': {'type': 'string'}, 'choices': {'type': 'array', 'items': {'type': 'string'}},\\\n'guess': {'type': 'string'}, 'date': {'type': 'string'}, 'country': {'type': 'string'}, 'sample': {'type': 'string'}} ,\\\n'required': ['target', 'choices', 'date', 'country', 'sample']}",
      "execution_count": 1,
      "outputs": []
    },
    {
      "metadata": {},
      "cell_type": "markdown",
      "source": "Define an array of JSON objects to validate."
    },
    {
      "metadata": {
        "trusted": true
      },
      "cell_type": "code",
      "source": "Records=[{'guess': 'Norwegian', 'target': 'Norwegian', 'country': 'AU', 'choices': ['Maori', 'Mandarin', 'Norwegian', 'Tongan'], 'sample': '48f9c924e0d98c959d8a6f1862b3ce9a', 'date': '2013-08-19'},\n{'guess': 'Dinka', 'target': 'Dinka', 'country': 'AU', 'choices': ['Danish', 'Dinka', 'Khmer', 'Lao'], 'sample': 'af5e8f27cef9e689a070b8814dcc02c3', 'date': '2013-08-19'},\n{'guess': 'Turkish', 'target': 'Samoan', 'country': 'AU', 'choices': ['German', 'Hungarian', 'Samoan', 'Turkish'], 'sample': '509c36eb58dbce009ccf93f375358d53', 'date': '2013-08-19'},\n{'guess': 'Latvian', 'target': 'Somali', 'country': 'AU', 'choices': ['Danish', 'Korean', 'Latvian', 'Somali'], 'sample': 'a505ab771ae7c32744ad31b3051b8ee9', 'date': '2013-08-19'},\n{'guess': 'Japanese', 'target': 'Japanese', 'country': 'AU', 'choices': ['Bangla', 'Dinka', 'Italian', 'Japanese'], 'sample': '3569611136ea04bab18a0cd605ced358', 'date': '2013-08-19'},\n{'guess': 'Maltese', 'target': 'Turkish', 'country': 'AU', 'choices': ['Hindi', 'Lao', 'Maltese', 'Turkish'], 'sample': 'af0e25c7637fb0dcdc56fac6d49aa55e', 'date': '2013-08-19'},\n{'guess': 'French', 'target': 'French', 'country': 'AU', 'choices': ['Burmese', 'Danish', 'French', 'Swedish'], 'sample': '92f9e1c17e6df988780527341fdb471d', 'date': '2013-08-19'},\n{'guess': 'German', 'target': 'German', 'country': 'AU', 'choices': ['German', 'Serbian', 'Swedish', 'Vietnamese'], 'sample': 'e77d97b712adffc39e531e20237a5589', 'date': '2013-08-19'},\n{'guess': 'Spanish', 'target': 'Spanish', 'country': 'AU', 'choices': ['Amharic', 'Czech', 'Sinhalese', 'Spanish'], 'sample': 'dc3ace49393de518e87d4f8d3ae8d9db', 'date': '2013-08-19'},\n{'guess': 'Romanian', 'target': 'Romanian', 'country': 'AU', 'choices': ['Estonian', 'Japanese', 'Lao', 'Romanian'], 'sample': '901fc45cba5245f21deaaca3966f825b', 'date': '2013-08-19'}]",
      "execution_count": 3,
      "outputs": []
    },
    {
      "metadata": {},
      "cell_type": "markdown",
      "source": "Validate the Json objects with the \"validate\" function (if no exceptions are raised, the objects are valid)."
    },
    {
      "metadata": {
        "trusted": true
      },
      "cell_type": "code",
      "source": "for line in Records:\n    validate(instance=line,schema=schema)",
      "execution_count": 4,
      "outputs": []
    },
    {
      "metadata": {},
      "cell_type": "markdown",
      "source": "Define and validate a new object. What is the problem with this object? Can you change the object to become valid?"
    },
    {
      "metadata": {
        "trusted": true
      },
      "cell_type": "code",
      "source": "obj={'guess': 'Dinka', 'target': 'Dinka', 'country': 'AU', 'choices': 'Dinka', 'sample': 'af5e8f27cef9e689a070b8814dcc02c3', 'date': '2013-08-19'}\nvalidate(instance=obj,schema=schema)",
      "execution_count": 5,
      "outputs": [
        {
          "output_type": "error",
          "ename": "ValidationError",
          "evalue": "'Dinka' is not of type 'array'\n\nFailed validating 'type' in schema['properties']['choices']:\n    {'items': {'type': 'string'}, 'type': 'array'}\n\nOn instance['choices']:\n    'Dinka'",
          "traceback": [
            "\u001b[0;31m---------------------------------------------------------------------------\u001b[0m",
            "\u001b[0;31mValidationError\u001b[0m                           Traceback (most recent call last)",
            "\u001b[0;32m<ipython-input-5-3d87b42f16d9>\u001b[0m in \u001b[0;36m<module>\u001b[0;34m()\u001b[0m\n\u001b[1;32m      1\u001b[0m \u001b[0mobj\u001b[0m\u001b[0;34m=\u001b[0m\u001b[0;34m{\u001b[0m\u001b[0;34m'guess'\u001b[0m\u001b[0;34m:\u001b[0m \u001b[0;34m'Dinka'\u001b[0m\u001b[0;34m,\u001b[0m \u001b[0;34m'target'\u001b[0m\u001b[0;34m:\u001b[0m \u001b[0;34m'Dinka'\u001b[0m\u001b[0;34m,\u001b[0m \u001b[0;34m'country'\u001b[0m\u001b[0;34m:\u001b[0m \u001b[0;34m'AU'\u001b[0m\u001b[0;34m,\u001b[0m \u001b[0;34m'choices'\u001b[0m\u001b[0;34m:\u001b[0m \u001b[0;34m'Dinka'\u001b[0m\u001b[0;34m,\u001b[0m \u001b[0;34m'sample'\u001b[0m\u001b[0;34m:\u001b[0m \u001b[0;34m'af5e8f27cef9e689a070b8814dcc02c3'\u001b[0m\u001b[0;34m,\u001b[0m \u001b[0;34m'date'\u001b[0m\u001b[0;34m:\u001b[0m \u001b[0;34m'2013-08-19'\u001b[0m\u001b[0;34m}\u001b[0m\u001b[0;34m\u001b[0m\u001b[0m\n\u001b[0;32m----> 2\u001b[0;31m \u001b[0mvalidate\u001b[0m\u001b[0;34m(\u001b[0m\u001b[0minstance\u001b[0m\u001b[0;34m=\u001b[0m\u001b[0mobj\u001b[0m\u001b[0;34m,\u001b[0m\u001b[0mschema\u001b[0m\u001b[0;34m=\u001b[0m\u001b[0mschema\u001b[0m\u001b[0;34m)\u001b[0m\u001b[0;34m\u001b[0m\u001b[0m\n\u001b[0m",
            "\u001b[0;32m~/anaconda3_420/lib/python3.5/site-packages/jsonschema/validators.py\u001b[0m in \u001b[0;36mvalidate\u001b[0;34m(instance, schema, cls, *args, **kwargs)\u001b[0m\n\u001b[1;32m    476\u001b[0m         \u001b[0mcls\u001b[0m \u001b[0;34m=\u001b[0m \u001b[0mvalidator_for\u001b[0m\u001b[0;34m(\u001b[0m\u001b[0mschema\u001b[0m\u001b[0;34m)\u001b[0m\u001b[0;34m\u001b[0m\u001b[0m\n\u001b[1;32m    477\u001b[0m     \u001b[0mcls\u001b[0m\u001b[0;34m.\u001b[0m\u001b[0mcheck_schema\u001b[0m\u001b[0;34m(\u001b[0m\u001b[0mschema\u001b[0m\u001b[0;34m)\u001b[0m\u001b[0;34m\u001b[0m\u001b[0m\n\u001b[0;32m--> 478\u001b[0;31m     \u001b[0mcls\u001b[0m\u001b[0;34m(\u001b[0m\u001b[0mschema\u001b[0m\u001b[0;34m,\u001b[0m \u001b[0;34m*\u001b[0m\u001b[0margs\u001b[0m\u001b[0;34m,\u001b[0m \u001b[0;34m**\u001b[0m\u001b[0mkwargs\u001b[0m\u001b[0;34m)\u001b[0m\u001b[0;34m.\u001b[0m\u001b[0mvalidate\u001b[0m\u001b[0;34m(\u001b[0m\u001b[0minstance\u001b[0m\u001b[0;34m)\u001b[0m\u001b[0;34m\u001b[0m\u001b[0m\n\u001b[0m",
            "\u001b[0;32m~/anaconda3_420/lib/python3.5/site-packages/jsonschema/validators.py\u001b[0m in \u001b[0;36mvalidate\u001b[0;34m(self, *args, **kwargs)\u001b[0m\n\u001b[1;32m    121\u001b[0m         \u001b[0;32mdef\u001b[0m \u001b[0mvalidate\u001b[0m\u001b[0;34m(\u001b[0m\u001b[0mself\u001b[0m\u001b[0;34m,\u001b[0m \u001b[0;34m*\u001b[0m\u001b[0margs\u001b[0m\u001b[0;34m,\u001b[0m \u001b[0;34m**\u001b[0m\u001b[0mkwargs\u001b[0m\u001b[0;34m)\u001b[0m\u001b[0;34m:\u001b[0m\u001b[0;34m\u001b[0m\u001b[0m\n\u001b[1;32m    122\u001b[0m             \u001b[0;32mfor\u001b[0m \u001b[0merror\u001b[0m \u001b[0;32min\u001b[0m \u001b[0mself\u001b[0m\u001b[0;34m.\u001b[0m\u001b[0miter_errors\u001b[0m\u001b[0;34m(\u001b[0m\u001b[0;34m*\u001b[0m\u001b[0margs\u001b[0m\u001b[0;34m,\u001b[0m \u001b[0;34m**\u001b[0m\u001b[0mkwargs\u001b[0m\u001b[0;34m)\u001b[0m\u001b[0;34m:\u001b[0m\u001b[0;34m\u001b[0m\u001b[0m\n\u001b[0;32m--> 123\u001b[0;31m                 \u001b[0;32mraise\u001b[0m \u001b[0merror\u001b[0m\u001b[0;34m\u001b[0m\u001b[0m\n\u001b[0m\u001b[1;32m    124\u001b[0m \u001b[0;34m\u001b[0m\u001b[0m\n\u001b[1;32m    125\u001b[0m         \u001b[0;32mdef\u001b[0m \u001b[0mis_type\u001b[0m\u001b[0;34m(\u001b[0m\u001b[0mself\u001b[0m\u001b[0;34m,\u001b[0m \u001b[0minstance\u001b[0m\u001b[0;34m,\u001b[0m \u001b[0mtype\u001b[0m\u001b[0;34m)\u001b[0m\u001b[0;34m:\u001b[0m\u001b[0;34m\u001b[0m\u001b[0m\n",
            "\u001b[0;31mValidationError\u001b[0m: 'Dinka' is not of type 'array'\n\nFailed validating 'type' in schema['properties']['choices']:\n    {'items': {'type': 'string'}, 'type': 'array'}\n\nOn instance['choices']:\n    'Dinka'"
          ]
        }
      ]
    },
    {
      "metadata": {},
      "cell_type": "markdown",
      "source": "Can you change the schema so that the object becomes valid?"
    },
    {
      "metadata": {
        "trusted": true
      },
      "cell_type": "code",
      "source": "schema={'type': 'object', 'properties': {'target': {'type': 'string'}, 'choices': {'type': 'array', 'items': {'type': 'string'}},\\\n'guess': {'type': 'string'}, 'date': {'type': 'string'}, 'country': {'type': 'string'}, 'sample': {'type': 'string'}} ,\\\n'required': ['target', 'choices', 'date', 'country', 'sample']}\n\nobj={'guess': 'Dinka', 'target': 'Dinka', 'country': 'AU', 'choices': 'Dinka', 'sample': 'af5e8f27cef9e689a070b8814dcc02c3', 'date': '2013-08-19'}\n\nvalidate(instance=obj,schema=schema)",
      "execution_count": null,
      "outputs": []
    },
    {
      "metadata": {},
      "cell_type": "markdown",
      "source": "## 3. XML Schema\n \n*XML Schema* is a way to provide schemas for XML documents, i.e., to describe certain restrictions on the structure and content of XML documents such as, for example, \"`<birthday>` elements should only contain valid dates\".\n\nIn this task we will explore XML Schemas in detail."
    },
    {
      "metadata": {},
      "cell_type": "markdown",
      "source": "To test XML validation, you can either use an online validator like [this one](https://www.freeformatter.com/xml-validator-xsd.html) or use *oXygen* again. When you open an XML Schema in oXygen, you can switch to its graphical representation, by choosing the \"Design\" mode at the bottom of the document pane; \"Text\" mode shows the XML Schema as an XML document."
    },
    {
      "metadata": {},
      "cell_type": "markdown",
      "source": "### 3.0 Episode 0"
    },
    {
      "metadata": {},
      "cell_type": "markdown",
      "source": "Match the following XML documents to XML Schemas that will validate them:\n\n#### Document 1\n```xml\n<happiness xmlns:xsi=\"http://www.w3.org/2001/XMLSchema-instance\"/>\n```\n\n#### Document 2\n```xml\n<happiness xmlns:xsi=\"http://www.w3.org/2001/XMLSchema-instance\">\n    <health/>\n    <friends/>\n    <family/>\n</happiness>\n```\n\n#### Document 3\n```xml\n<happiness xmlns:xsi=\"http://www.w3.org/2001/XMLSchema-instance\">\n    3.141562\n</happiness>\n```\n\n#### Document 4\n```xml\n<happiness xmlns:xsi=\"http://www.w3.org/2001/XMLSchema-instance\">\n    <health value=\"100\"/>\n    <friends/>\n    <family/>\n</happiness>\n```\n\n#### Document 5\n```xml\n<happiness xmlns:xsi=\"http://www.w3.org/2001/XMLSchema-instance\">\n    <health/>\n    <friends/>\n    <family/>\n    But perhaps everybody defines it differently...\n</happiness>\n```\n\n______\n\n\n#### Schema 1\n```xml\n<xs:schema xmlns:xs=\"http://www.w3.org/2001/XMLSchema\">\n    <xs:element name=\"happiness\">\n        <xs:complexType>\n            <xs:sequence>\n                <xs:element name=\"health\"/>\n                <xs:element name=\"friends\"/>\n                <xs:element name=\"family\"/>\n            </xs:sequence>\n        </xs:complexType>\n    </xs:element>\n</xs:schema>\n```\n\n#### Schema 2\n```xml\n<xs:schema xmlns:xs=\"http://www.w3.org/2001/XMLSchema\">\n    <xs:element name=\"happiness\">\n        <xs:complexType mixed=\"true\">\n            <xs:sequence>\n                <xs:element name=\"health\"/>\n                <xs:element name=\"friends\"/>\n                <xs:element name=\"family\"/>\n            </xs:sequence>\n        </xs:complexType>\n    </xs:element>\n</xs:schema>\n```\n\n#### Schema 3\n```xml\n<xs:schema xmlns:xs=\"http://www.w3.org/2001/XMLSchema\">\n    <xs:element name=\"happiness\" type=\"xs:decimal\"/>\n</xs:schema>\n```\n\n#### Schema 4\n```xml\n<xs:schema xmlns:xs=\"http://www.w3.org/2001/XMLSchema\">\n    <xs:element name=\"happiness\">\n        <xs:complexType>\n            <xs:sequence/>\n        </xs:complexType>\n    </xs:element>\n</xs:schema>\n```\n\n#### Schema 5\n```xml\n<xs:schema xmlns:xs=\"http://www.w3.org/2001/XMLSchema\">\n    <xs:element name=\"happiness\">\n        <xs:complexType>\n            <xs:sequence>\n                <xs:element name=\"health\">\n                    <xs:complexType>\n                        <xs:attribute name=\"value\" type=\"xs:integer\" use=\"required\"/>\n                    </xs:complexType>\n                </xs:element>\n                <xs:element name=\"friends\"/>\n                <xs:element name=\"family\"/>\n            </xs:sequence>\n        </xs:complexType>\n    </xs:element>\n</xs:schema>\n```"
    },
    {
      "metadata": {},
      "cell_type": "markdown",
      "source": "### 3.1 Episode 1\n\nThe [Great Language Game](http://greatlanguagegame.com/) was a game in which you are given a voice clip to listen, and you are asked to identify the language in which the person was speaking. It was a multiple-choice question&ndash;you make your choice out of several alternatives. The game is closed now, unfortunately ;( But, we can still use their datasets for our exercises!\n\nThe following XML document presents a user's attempt at answering a single question in the game: it contains the identifier of the voice clip, the choices presented to the player, and the player's response.\nProvide an XML Schema which will validate this document (use oXygen to help you):"
    },
    {
      "metadata": {},
      "cell_type": "markdown",
      "source": "```xml\n<?xml version=\"1.0\" encoding=\"UTF-8\"?>\n<attempt\n    country=\"AU\" date=\"2013-08-19\">\n    <voiceClip>48f9c924e0d98c959d8a6f1862b3ce9a</voiceClip>\n    <choices>\n        <choice>Maori</choice>\n        <choice>Mandarin</choice>\n        <choice>Norwegian</choice>\n        <choice>Tongan</choice>\n    </choices>\n    <target>Norwegian</target>\n    <guess>Norwegian</guess>\n</attempt>\n\n```"
    },
    {
      "metadata": {},
      "cell_type": "markdown",
      "source": "### 3.2 Episode 2\nContinuing the topic of the Great Language Game, provide an XML Schema which will validate the following document:"
    },
    {
      "metadata": {},
      "cell_type": "markdown",
      "source": "```xml\n<?xml version=\"1.0\" encoding=\"UTF-8\"?>\n<attempts>\n    <attempt country=\"AU\" date=\"2013-08-19\">\n        <voiceClip>48f9c924e0d98c959d8a6f1862b3ce9a</voiceClip>\n        <choices>\n            <choice>Maori</choice>\n            <choice>Mandarin</choice>\n            <choice>Norwegian</choice>\n            <choice>Tongan</choice>\n        </choices>\n        <target>Norwegian</target>\n        <guess>Norwegian</guess>\n    </attempt>\n    <attempt country=\"US\" date=\"2014-03-01\">\n        <voiceClip>5000be64c8cc8f61dda50fca8d77d307</voiceClip>\n        <choices>\n            <choice>Finnish</choice>\n            <choice>Mandarin</choice>\n            <choice>Scottish Gaelic</choice>\n            <choice>Slovak</choice>\n            <choice>Swedish</choice>\n            <choice>Thai</choice>\n        </choices>\n        <target>Slovak</target>\n        <guess>Slovak</guess>\n    </attempt>\n    <attempt country=\"US\" date=\"2014-03-01\">\n        <voiceClip>923c0d6c9e593966e1b6354cc0d794de</voiceClip>\n        <choices>\n            <choice>Hungarian</choice>\n            <choice>Sinhalese</choice>\n            <choice>Swahili</choice>\n        </choices>\n        <target>Hungarian</target>\n        <guess>Sinhalese</guess>\n    </attempt>\n</attempts>\n```"
    },
    {
      "metadata": {},
      "cell_type": "markdown",
      "source": "------\nThis concludes our exercise sheet on XML validation. Thank you for taking your time to go through it!"
    }
  ],
  "metadata": {
    "kernelspec": {
      "name": "python3",
      "display_name": "Python 3",
      "language": "python"
    },
    "language_info": {
      "mimetype": "text/x-python",
      "nbconvert_exporter": "python",
      "name": "python",
      "file_extension": ".py",
      "version": "3.5.4",
      "pygments_lexer": "ipython3",
      "codemirror_mode": {
        "version": 3,
        "name": "ipython"
      }
    }
  },
  "nbformat": 4,
  "nbformat_minor": 1
}