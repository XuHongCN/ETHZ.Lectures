{
    "cells": [
        {
            "metadata": {
                "collapsed": true
            },
            "cell_type": "markdown",
            "source": "# <center>Big Data &ndash; Exercises</center>\n## <center>Spring 2020 &ndash; Week 4 &ndash; ETH Zurich</center>\n\n## Introduction\nThis exercise will cover XML and JSON well-formedness.\n\nWe recommend you use an online editor to validate and check your solutions for well-formedness, such as [this](https://www.xmlvalidation.com/) for XML and [this](https://jsonlint.com/) for JSON. To edit XML files, something like [this](https://www.webtoolkitonline.com/xml-formatter.html) might work better, which offers syntax highlighting and formatting.  \nIf you prefer, you can instead install oXygen, an XML/JSON development IDE. Download links can be found [on the course website](https://www.systems.ethz.ch/courses/spring2020/bigdataforeng/material), and the license key is available on the course Moodle."
        },
        {
            "metadata": {},
            "cell_type": "markdown",
            "source": "## 1 XML\n\n\n### 1.1 Well-formedness\n\nFor each of the following XML documents, say if it is well-formed or not; if not, then also correct the errors.\nAn online editor may help with these tasks, but first try to solve them without software support.\n\n#### Document 1\n```\n<Burger>\n    <Bun>\n        <Pickles/>\n        <Cheese/>\n        <Patty/>\n    </Bun>\n</Burger>\n```\n\n#### Document 2\n```\n<Burger>\n    <Bun>\n        <Pickles/>\n        <Cheese/>\n        <Patty/>\n    </Bun>\n</Burger>\n<Cola>\n    <Sugar/>\n    <Water/>\n</Cola>\n<Fries kind=\"French\"/>\n```\n\n#### Document 3\n```\n<Email>\n    Dear Mr. John Doe,\n\n    I hereby kindly request you to revise the attached draft \n    of the merger contract and provide me with any feedback you may have.\n\n    Best regards,\n    Jane Doe\n    Legal Department.\n</Email>\nP.S. Also, please stop sending me funny cat pictures; I laugh all day and cannot work.\n```\n\n#### Document 4\n```\n<Band name=\"Metallica\" \n      member=\"James Hetfield\" \n      member=\"Lars Ulrich\" \n      member=\"Kirk Hammett\" \n      member=\"Robert Trujillo\"/>\n```"
        },
        {
            "metadata": {},
            "cell_type": "markdown",
            "source": "### 1.2 Create your own XML\nCopy the text of the introduction above (including the title until the text 'by email') and paste it into an editor as plain text. Create a possible XML document keeping the same context and including formatting (title, sections, style, links, etc.).\n\n**Questions**\n1. Is your XML well-formed? If not, correct any mistakes. You can use an editor to help you with this task.\n1. Is this data structured, unstructured, or semi-structured?\n"
        },
        {
            "metadata": {},
            "cell_type": "markdown",
            "source": "### 1.3 XML Names\nWhich of the following are valid XML Names?\n1. `<_bar/>`\n1. `<Xmlelement/>`\n1. `<Foo/>`\n1. `<foo123/>`\n1. `<foo_123/>`\n1. `<foo-123/>`\n1. `<foo#123/>`\n1. `<foo.123/>`\n1. `<-123/>`\n1. `<123foo/>`\n1. `<doctype/>`"
        },
        {
            "metadata": {},
            "cell_type": "markdown",
            "source": "### 1.4 Predefined entities\nXML has only 5 predefined entities. Associate each escape code with the corresponding character.\n1. `&lt;` &nbsp;&nbsp;&nbsp;&nbsp;&nbsp;&nbsp;&nbsp;&nbsp;&nbsp;&nbsp;&nbsp;&nbsp;&nbsp;&nbsp;     >\n1. `&amp;`&nbsp;&nbsp;&nbsp;&nbsp;&nbsp;&nbsp;&nbsp;&nbsp;&nbsp;&nbsp;&nbsp;&nbsp;&nbsp;           \"\n1. `&gt;` &nbsp;&nbsp;&nbsp;&nbsp;&nbsp;&nbsp;&nbsp;&nbsp;&nbsp;&nbsp;&nbsp;&nbsp;&nbsp;&nbsp;     '\n1. `&quot;` &nbsp;&nbsp;&nbsp;&nbsp;&nbsp;&nbsp;&nbsp;&nbsp;&nbsp;&nbsp;                           &\n1. `&apos;` &nbsp;&nbsp;&nbsp;&nbsp;&nbsp;&nbsp;&nbsp;&nbsp;&nbsp;&nbsp;                           <"
        },
        {
            "metadata": {},
            "cell_type": "markdown",
            "source": "## 2. JSON\n### 2.1 JSON Values\nJSON documents are composed of name&ndash;value pairs. List the 6 possible JSON value types."
        },
        {
            "metadata": {},
            "cell_type": "markdown",
            "source": "### 2.2 JSON well-formedness\nFor each of the following JSON documents, state if you see any syntax mistakes. If yes, correct them.\n\n#### Document 1\n```\n{\n  \"burger\" : {\n      \"bun\" : [\"pickles\", \"cheese\", \"patty\"],\n      \"extraIngredients\" :\n  }\n}\n```\n\n#### Document 2\n```\n{\n  \"pizza\" : {\n      \"topping\" : \"salami\",\n      \"topping\" : \"cheese\",\n      \"topping\" : \"oregano\"\n  }\n}\n```\n\n#### Document 3\n```\n{\n    name : \"John Doe\",\n    age : 42,\n    occupation : \"Penguin Turner\",\n    motto : \"Up is life!\"\n}\n```"
        },
        {
            "metadata": {},
            "cell_type": "markdown",
            "source": "## 3. Conversions from a relational database\n\nImagine that we have a relational table which stores chat messages. Translate this table into XML and JSON.\n\nconversation_id | people | sender | content | timestamp | is_read | attachment_id\n--|--|--|--|--\n42|charlie,ari,jesse|charlie|hey, here's the doc ><|1510410193|TRUE|NULL\n42|charlie,ari,jesse|charlie|NULL|1510410244|TRUE|doc_6492\n42|charlie,ari,jesse|ari|thanks!|1510432987|FALSE|NULL\n17|rudy,sage|rudy|look at this cute cat!|1500897189|TRUE|img_91847\n17|rudy,sage|NULL|aww|1506610190|TRUE|NULL"
        },
        {
            "metadata": {
                "trusted": true
            },
            "cell_type": "code",
            "source": "## 4. ",
            "execution_count": null,
            "outputs": []
        }
    ],
    "metadata": {
        "kernelspec": {
            "name": "python3",
            "display_name": "Python 3",
            "language": "python"
        },
        "language_info": {
            "mimetype": "text/x-python",
            "nbconvert_exporter": "python",
            "name": "python",
            "pygments_lexer": "ipython3",
            "version": "3.5.4",
            "file_extension": ".py",
            "codemirror_mode": {
                "version": 3,
                "name": "ipython"
            }
        }
    },
    "nbformat": 4,
    "nbformat_minor": 1
}
