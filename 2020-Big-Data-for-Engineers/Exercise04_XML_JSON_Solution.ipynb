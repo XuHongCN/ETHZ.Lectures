{
    "cells": [
        {
            "metadata": {
                "collapsed": true
            },
            "cell_type": "markdown",
            "source": "# <center>Big Data &ndash; Exercises &amp; Solutions</center>\n## <center>Spring 2019 &ndash; Week 4 &ndash; ETH Zurich</center>\n\n## Introduction\nThis exercise will cover XML and JSON well-formedness.\n\nWe recommend you use an online editor to validate and check your solutions for well-formedness, such as [this](https://www.xmlvalidation.com/) for XML and [this](https://jsonlint.com/) for JSON. To edit XML files, something like [this](https://www.webtoolkitonline.com/xml-formatter.html) might work better, which offers syntax highlighting and formatting.  \nIf you prefer, you can instead install oXygen, an XML/JSON development IDE. Download links can be found [on the course website](https://www.systems.ethz.ch/courses/spring2020/bigdataforeng/material), and the license key is available on the course Moodle.\n"
        },
        {
            "metadata": {},
            "cell_type": "markdown",
            "source": "## 1 XML\n\n\n### 1.1 Well-formedness\n\nFor each of the following XML documents, say if it is well-formed or not; if not, then also correct the errors.\nAn online editor may help with these tasks, but first try to solve them without software support.\n\n#### Document 1\n```\n<Burger>\n    <Bun>\n        <Pickles/>\n        <Cheese/>\n        <Patty/>\n    </Bun>\n</Burger>\n```\n\n#### Solution\nIt is well-formed.\n\n#### Document 2\n```\n<Burger>\n    <Bun>\n        <Pickles/>\n        <Cheese/>\n        <Patty/>\n    </Bun>\n</Burger>\n<Cola>\n    <Sugar/>\n    <Water/>\n</Cola>\n<Fries kind=\"French\"/>\n```\n\n#### Solution\nThis document is not well-formed because it contains more than one root element. We can fix this by wrapping all the elements in a single root element like so:\n```xml\n<Combo>\n    <Burger>\n        <Bun>\n            <Pickles/>\n            <Cheese/>\n            <Patty/>\n        </Bun>\n    </Burger>\n    <Cola>\n        <Sugar/>\n        <Water/>\n    </Cola>\n    <Fries kind=\"French\"/>\n</Combo>\n```\n\n#### Document 3\n```\n<Email>\n    Dear Mr. John Doe,\n\n    I hereby kindly request you to revise the attached draft \n    of the merger contract and provide me with any feedback you may have.\n\n    Best regards,\n    Jane Doe\n    Legal Department.\n</Email>\nP.S. Also, please stop sending me funny cat pictures; I laugh all day and cannot work.\n```\n\n#### Solution\nThis document is not well-formed because text is not allowed to follow the root element. One way of fixing it is to move the trailing text inside the root element:\n```xml\n<Email>\n    Dear Mr. John Doe,\n\n    I hereby kindly request you to revise the attached draft \n    of the merger contract and provide me with any feedback you may have.\n\n    Best regards,\n    Jane Doe\n    Legal Department.\n    \n    P.S. Also, please stop sending me funny cat pictures; I laugh all day and cannot work.\n</Email>\n```\n\n#### Document 4\n```\n<Band name=\"Metallica\" \n      member=\"James Hetfield\" \n      member=\"Lars Ulrich\" \n      member=\"Kirk Hammett\" \n      member=\"Robert Trujillo\"/>\n```\n\n#### Solution\nThis document is not well-formed because it contains an element with duplicate attribute names. We can fix it by making the attributes into child elements:\n```xml\n<Band name=\"Metallica\">\n    <member>James Hetfield</member>\n    <member>Lars Ulrich</member>\n    <member>Kirk Hammett</member>\n    <member>Robert Trujillo</member>\n</Band>\n```"
        },
        {
            "metadata": {},
            "cell_type": "markdown",
            "source": "### 1.2 Create your own XML\nCopy the text of the introduction above (including the title until the text 'by email') and paste it into an editor as plain text. Create a possible XML document keeping the same context and including formatting (title, sections, style, links, etc.).\n\n**Questions**\n1. Is your XML well-formed? If not, correct any mistakes. You can use an editor to help you with this task.\n1. Is this data structured, unstructured, or semi-structured?\n\n**Solution**\n\nThere is no unique way to create an XML encoding the text above and its structure. This is one possible solution:\n\n```xml\n<?xml version=\"1.0\" encoding=\"UTF-8\"?>\n<document lang=\"en\">\n    <title font-size='15px' font-style='bold'>Introduction</title>\n    <paragraph font-size='12px'>This exercise will cover XML and JSON well-formedness.</paragraph>\n    <paragraph font-size='12px'>\n        We recommend you use an online editor to check your solutions, such as <link url=\"https://www.webtoolkitonline.com/xml-formatter.html\">this</link> for XML and <link url=\"https://jsonlint.com/\">this</link> for JSON.\n        If you prefer, you can instead install <link url=\"https://www.oxygenxml.com/xml_editor/software_archive_editor.html\">oXygen</link>, an XML/JSON development IDE. You should have received a license key for it by email.\n    </paragraph>\n</document>\n```\n\n1. If all the syntax rules have been respected, the document will be well-formed.\n1. This data is semi-structured: there is some structure, but not all of the content is structured as in a flat database.\n"
        },
        {
            "metadata": {},
            "cell_type": "markdown",
            "source": "### 1.3 XML Names\nWhich of the following are valid XML Names?\n1. `<_bar/>`\n1. `<Xmlelement/>`\n1. `<Foo/>`\n1. `<foo123/>`\n1. `<foo_123/>`\n1. `<foo-123/>`\n1. `<foo#123/>`\n1. `<foo.123/>`\n1. `<-123/>`\n1. `<123foo/>`\n1. `<doctype/>`\n\n\n** Solution **\n\n1, 3, 4, 5, 6, 8, and 11 are valid names. Remember:\n1. Element names must start with a letter or underscore.\n1. Element names cannot start with the string `xml` (or XML, or Xml, etc).\n1. Element names can contain letters, digits, hyphens, underscores, and periods.\n1. Element names cannot contain spaces.\n1. Element names are case-sensitive."
        },
        {
            "metadata": {},
            "cell_type": "markdown",
            "source": "### 1.4 Predefined entities\nXML has only 5 predefined entities. Associate each escape code with the corresponding character.\n1. `&lt;` &nbsp;&nbsp;&nbsp;&nbsp;&nbsp;&nbsp;&nbsp;&nbsp;&nbsp;&nbsp;&nbsp;&nbsp;&nbsp;&nbsp;     >\n1. `&amp;`&nbsp;&nbsp;&nbsp;&nbsp;&nbsp;&nbsp;&nbsp;&nbsp;&nbsp;&nbsp;&nbsp;&nbsp;&nbsp;           \"\n1. `&gt;` &nbsp;&nbsp;&nbsp;&nbsp;&nbsp;&nbsp;&nbsp;&nbsp;&nbsp;&nbsp;&nbsp;&nbsp;&nbsp;&nbsp;     '\n1. `&quot;` &nbsp;&nbsp;&nbsp;&nbsp;&nbsp;&nbsp;&nbsp;&nbsp;&nbsp;&nbsp;                           &\n1. `&apos;` &nbsp;&nbsp;&nbsp;&nbsp;&nbsp;&nbsp;&nbsp;&nbsp;&nbsp;&nbsp;                           <\n\n** Solution **\n1. `&lt;` &nbsp;&nbsp;&nbsp;&nbsp;&nbsp;&nbsp;&nbsp;&nbsp;&nbsp;&nbsp;&nbsp;&nbsp;&nbsp;&nbsp;     <\n1. `&amp;`&nbsp;&nbsp;&nbsp;&nbsp;&nbsp;&nbsp;&nbsp;&nbsp;&nbsp;&nbsp;&nbsp;&nbsp;&nbsp;           &\n1. `&gt;` &nbsp;&nbsp;&nbsp;&nbsp;&nbsp;&nbsp;&nbsp;&nbsp;&nbsp;&nbsp;&nbsp;&nbsp;&nbsp;&nbsp;     >\n1. `&quot;` &nbsp;&nbsp;&nbsp;&nbsp;&nbsp;&nbsp;&nbsp;&nbsp;&nbsp;&nbsp;                           \"\n1. `&apos;` &nbsp;&nbsp;&nbsp;&nbsp;&nbsp;&nbsp;&nbsp;&nbsp;&nbsp;&nbsp;                           '\n\n"
        },
        {
            "metadata": {},
            "cell_type": "markdown",
            "source": "## 2. JSON\n### 2.1 JSON Values\nJSON documents are composed of name&ndash;value pairs. List the 6 possible JSON value types.\n\n** Solution **\n1. Number (integer or decimal)\n1. String (in double quotes)\n1. Boolean (`true` or `false`)\n1. Array (in square brackets)\n1. Object (in curly braces)\n1. null\n\n"
        },
        {
            "metadata": {},
            "cell_type": "markdown",
            "source": "### 2.2 JSON well-formedness\nFor each of the following JSON documents, state if you see any syntax mistakes. If yes, correct them.\n\n#### Document 1\n```\n{\n  \"burger\" : {\n      \"bun\" : [\"pickles\", \"cheese\", \"patty\"],\n      \"extraIngredients\" :\n  }\n}\n```\n#### Solution\nThe document has a syntax error&mdash;every key has to have a value, and `extraIngredients` lacks one. If we want to signal an absence of a value, we can use `null`:\n```json\n{\n  \"burger\" : {\n      \"bun\" : [\"pickles\", \"cheese\", \"patty\"],\n      \"extraIngredients\" : null\n  }\n}\n```\n\n#### Document 2\n```\n{\n  \"pizza\" : {\n      \"topping\" : \"salami\",\n      \"topping\" : \"cheese\",\n      \"topping\" : \"oregano\"\n  }\n}\n```\n#### Solution\nThis document has a syntax error&mdash;duplicate keys are not allowed. We can put the repeating name&ndash;value pairs into an array:\n```json\n{\n  \"pizza\" : {\n      \"topping\" : [\"salami\", \"cheese\", \"oregano\"]\n  }\n}\n```\n\n#### Document 3\n```\n{\n    name : \"John Doe\",\n    age : 42,\n    occupation : \"Penguin Turner\",\n    motto : \"Up is life!\"\n}\n```\n#### Solution\nThis document also has a syntax error&mdash;JSON keys must be double-quoted:\n```json\n{\n    \"name\" : \"John Doe\",\n    \"age\" : 42,\n    \"occupation\" : \"Penguin Turner\",\n    \"motto\" : \"Up is life!\"\n}\n```"
        },
        {
            "metadata": {},
            "cell_type": "markdown",
            "source": "## 3. Conversions from a relational database\n\nImagine that we have a relational table which stores chat messages. Translate this table into XML and JSON.\n\nconversation_id | people | sender | content | timestamp | is_read | attachment_id\n--|--|--|--|--\n42|charlie,ari,jesse|charlie|hey, here's the doc ><|1510410193|TRUE|NULL\n42|charlie,ari,jesse|charlie|NULL|1510410244|TRUE|doc_6492\n42|charlie,ari,jesse|ari|thanks!|1510432987|FALSE|NULL\n17|rudy,sage|rudy|look at this cute cat!|1500897189|TRUE|img_91847\n17|rudy,sage|NULL|aww|1506610190|TRUE|NULL\n\n** Solution **\n\nThere are, of course, many possible solutions. Here's one of them:\n\nJSON:\n\n```json\n[\n    {\n        \"conversation_id\": 42,\n        \"people\": [\"charlie\", \"ari\", \"jesse\"],\n        \"messages\": [\n            {\n                \"sender\": \"charlie\",\n                \"content\": \"hey, here's the doc ><\",\n                \"timestamp\": 1510410193,\n                \"is_read\": true\n            },\n            {\n                \"sender\": \"charlie\",\n                \"timestamp\": 1510410244,\n                \"is_read\": true,\n                \"attachment_id\": \"doc_6492\"\n            },\n            {\n                \"sender\": \"ari\",\n                \"content\": \"thanks!\",\n                \"timestamp\": 1510432987,\n                \"is_read\": false\n            }\n        ]\n    },\n    {\n        \"conversation_id\": 17,\n        \"people\": [\"rudy\", \"sage\"],\n        \"messages\": [\n            {\n                \"sender\": \"charlie\",\n                \"content\": \"look at this cute cat!\",\n                \"timestamp\": 1500897189,\n                \"is_read\": true,\n                \"attachment_id\": \"img_91847\"\n            },\n            {\n                \"content\": \"aww\",\n                \"timestamp\": 1506610190,\n                \"is_read\": true\n            }\n        ]\n    }\n]\n\n```\n\nXML:\n\n```xml\n<?xml version=\"1.0\" encoding=\"UTF-8\" ?>\n<conversations>\n    <conversation id=\"42\">\n\t\t<people>charlie</people>\n\t\t<people>ari</people>\n\t\t<people>jesse</people>\n\t\t<message>\n\t\t\t<sender>charlie</sender>\n\t\t\t<content>hey, here's the doc &gt;&lt;</content>\n\t\t\t<timestamp>1510410193</timestamp>\n\t\t\t<is_read>true</is_read>\n\t\t</message>\n\t\t<message>\n\t\t\t<sender>charlie</sender>\n\t\t\t<timestamp>1510410244</timestamp>\n\t\t\t<is_read>true</is_read>\n\t\t\t<attachment_id>doc_6492</attachment_id>\n\t\t</message>\n\t\t<message>\n\t\t\t<sender>ari</sender>\n\t\t\t<content>thanks!</content>\n\t\t\t<timestamp>1510432987</timestamp>\n\t\t\t<is_read>false</is_read>\n\t\t</message>\n    </conversation>\n    <conversation id=\"17\">\n\t\t<people>rudy</people>\n\t\t<people>sage</people>\n\t\t<message>\n\t\t\t<sender>charlie</sender>\n\t\t\t<content>look at this cute cat!</content>\n\t\t\t<timestamp>1500897189</timestamp>\n\t\t\t<is_read>true</is_read>\n\t\t\t<attachment_id>img_91847</attachment_id>\n\t\t</message>\n\t\t<message>\n\t\t\t<content>aww</content>\n\t\t\t<timestamp>1506610190</timestamp>\n\t\t\t<is_read>true</is_read>\n\t\t</message>\n    </conversation>\n</conversations>\n```"
        }
    ],
    "metadata": {
        "kernelspec": {
            "name": "python3",
            "display_name": "Python 3",
            "language": "python"
        },
        "language_info": {
            "mimetype": "text/x-python",
            "nbconvert_exporter": "python",
            "name": "python",
            "file_extension": ".py",
            "version": "3.5.4",
            "pygments_lexer": "ipython3",
            "codemirror_mode": {
                "version": 3,
                "name": "ipython"
            }
        }
    },
    "nbformat": 4,
    "nbformat_minor": 1
}
