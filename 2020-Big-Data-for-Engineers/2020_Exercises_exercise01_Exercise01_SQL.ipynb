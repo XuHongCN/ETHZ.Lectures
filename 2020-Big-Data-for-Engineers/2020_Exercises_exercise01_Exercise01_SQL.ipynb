{
  "cells": [
    {
      "metadata": {},
      "cell_type": "markdown",
      "source": "# <center>Big Data &ndash; Exercises</center>\n## <center>Spring 2020 &ndash; Week 1 &ndash; ETH Zurich</center>"
    },
    {
      "metadata": {},
      "cell_type": "markdown",
      "source": "## Prerequisites\nIn this exercise, you will brush-up the fundamental concepts of relational databases and SQL. If you havn't taken the Data Modelling and Databases course (or an equivalent bachelor course), we recommend you to read Garcia-Molina, Ullman, Widom: Database Systems: The Complete Book. Pearson, 2. Edition, 2008. (Chapters 1, 2, and 6)\n"
    },
    {
      "metadata": {},
      "cell_type": "markdown",
      "source": "## Exercise 1: Query operations in SQL\n\n1) Label each of the following SQL statements with its query type.\n\n```\nA. SELECT * FROM Posts WHERE Id = 123\n \nB. SELECT Id, ParentId FROM Posts WHERE ParentId IS NOT NULL\n \nC. SELECT u.Id, DisplayName\n   FROM Users AS u\n   JOIN Posts AS p ON u.id = p.OwnerUserId\n   GROUP BY u.Id, DisplayName\n```\n\n2) What makes SQL a declarative language and what advantages does that have?\n\n3) What aspects of functional languages are present in SQL, and what advantages does that have?"
    },
    {
      "metadata": {},
      "cell_type": "markdown",
      "source": "## Exercise 2: Explore the dataset\n\nHere we will recall basic concepts from relational databases and try to illustrate them by example. First, some introductory questions:\n\n1. What is a relational model? \n2. In what logical shape is the data stored? \n3. What is a primary key and what is its purpose?\n4. What does 'first normal form' refer to? \n\nNow let us illustrate with few examples. For this we need to connect to the database we used in the first exercise. We repeat here the steps. We first set the credentials to connect."
    },
    {
      "metadata": {
        "trusted": true
      },
      "cell_type": "code",
      "source": "server='ethbigdata2019.database.windows.net'\nuser='student@ethbigdata2019'\npassword='BigData19'\ndatabase='beer.stackexchange.com'",
      "execution_count": null,
      "outputs": []
    },
    {
      "metadata": {},
      "cell_type": "markdown",
      "source": "Now, lets make sure that we can connect to the database for which we need the following scripts."
    },
    {
      "metadata": {
        "trusted": true
      },
      "cell_type": "code",
      "source": "!pip install pymssql==2.1.2",
      "execution_count": null,
      "outputs": []
    },
    {
      "metadata": {
        "trusted": true
      },
      "cell_type": "code",
      "source": "!pip install ipython-sql",
      "execution_count": null,
      "outputs": []
    },
    {
      "metadata": {},
      "cell_type": "markdown",
      "source": "We can now load the extension and establish a connection to our database from above. Run the following cell and make sure the output says *\"Connected: &lt;connection string&gt;\"*."
    },
    {
      "metadata": {
        "trusted": true
      },
      "cell_type": "code",
      "source": "%load_ext sql\nconnection_string = 'mssql+pymssql://{user}:{password}@{server}:1433/{database}'.format(\n        server=server, user=user, password=password, database=database)\nprint(connection_string)\n%sql $connection_string",
      "execution_count": null,
      "outputs": []
    },
    {
      "metadata": {},
      "cell_type": "markdown",
      "source": "If all steps executed correctly, the cell bellow should produce result."
    },
    {
      "metadata": {
        "trusted": true
      },
      "cell_type": "code",
      "source": "%%sql \nSELECT TOP 10 Id, DisplayName FROM Users",
      "execution_count": null,
      "outputs": []
    },
    {
      "metadata": {},
      "cell_type": "markdown",
      "source": "Now that you have established connection to the database, let us try to understand the it a bit better. \n\n### List of Tables\n\nRun the following query which shows the content of a system table with the names of the tables. (This is specific to MS SQL Server.)"
    },
    {
      "metadata": {
        "trusted": true
      },
      "cell_type": "code",
      "source": "%sql SELECT * FROM INFORMATION_SCHEMA.TABLES WHERE TABLE_TYPE = 'BASE TABLE' AND TABLE_CATALOG='beer.stackexchange.com';",
      "execution_count": null,
      "outputs": []
    },
    {
      "metadata": {},
      "cell_type": "markdown",
      "source": "### List of attributes/columns\n\nThe following shows information about the attributes of the tables."
    },
    {
      "metadata": {
        "trusted": true
      },
      "cell_type": "code",
      "source": "%sql SELECT TABLE_CATALOG, TABLE_SCHEMA, TABLE_NAME, COLUMN_NAME, DATA_TYPE \\\n     FROM INFORMATION_SCHEMA.COLUMNS \\\n     WHERE TABLE_CATALOG='beer.stackexchange.com' AND TABLE_SCHEMA <> 'sys'\\\n     ORDER BY TABLE_CATALOG, TABLE_SCHEMA, TABLE_NAME, ORDINAL_POSITION;",
      "execution_count": null,
      "outputs": []
    },
    {
      "metadata": {
        "trusted": true
      },
      "cell_type": "code",
      "source": "%sql SELECT COLUMN_NAME \\\n     FROM INFORMATION_SCHEMA.KEY_COLUMN_USAGE \\\n     WHERE OBJECTPROPERTY(OBJECT_ID(CONSTRAINT_SCHEMA + '.' + QUOTENAME(CONSTRAINT_NAME)), 'IsPrimaryKey') = 1 \\\n        AND TABLE_NAME = 'Votes' AND TABLE_SCHEMA = 'dbo';",
      "execution_count": null,
      "outputs": []
    },
    {
      "metadata": {},
      "cell_type": "markdown",
      "source": "From the above returned results answer the following questions:\n5. Which objects are modelled in the dataset and how do they relate (semantically) to each other?\n6. Which are the primary keys for each table?"
    },
    {
      "metadata": {},
      "cell_type": "markdown",
      "source": "### Where we got the data from (if interested)\n\n* [Info about the StackOverflow dataset](http://meta.stackexchange.com/questions/2677/database-schema-documentation-for-the-public-data-dump-and-sede)\n* [Web interface to query it](https://data.stackexchange.com/beer/query/new)\n* [Link to the dataset](https://archive.org/download/stackexchange/) (you don't need to do that!)"
    },
    {
      "metadata": {},
      "cell_type": "markdown",
      "source": "## Exercise 3: Distribution of post scores\n\nIn this exercise, we want to find out how the scores of posts are distributed.\n\nTo start, write a query that selects the top 10 best-scored posts. (Note that ```SELECT TOP 10``` is MS SQL specific syntax. Other systems have different syntaxes to achieve the same thing.)"
    },
    {
      "metadata": {
        "trusted": true
      },
      "cell_type": "code",
      "source": "%sql SELECT TOP 10 ...",
      "execution_count": null,
      "outputs": []
    },
    {
      "metadata": {},
      "cell_type": "markdown",
      "source": "We now know what the best posts look like. What about \"more normal\" posts? Write a query that counts (using the COUNT operation) the number of posts for each score."
    },
    {
      "metadata": {
        "trusted": true
      },
      "cell_type": "code",
      "source": "%sql SELECT ...",
      "execution_count": null,
      "outputs": []
    },
    {
      "metadata": {},
      "cell_type": "markdown",
      "source": "Did you use renaming in the query?  If not try to rename the returned results from the count operation."
    },
    {
      "metadata": {
        "trusted": true
      },
      "cell_type": "code",
      "source": "%sql SELECT ...",
      "execution_count": null,
      "outputs": []
    },
    {
      "metadata": {},
      "cell_type": "markdown",
      "source": "The above query gives a very large result that is difficult to interpret. Let us write a query that rounds the scores of the posts to the nearest multiple of a constant that we define and counts the number of posts for each rounded score.  "
    },
    {
      "metadata": {
        "trusted": true
      },
      "cell_type": "code",
      "source": "%%sql\nSELECT RoundedScore, Count(*) AS Count\nFROM (\n        SELECT ROUND((score+2.5)/5, 0) * 5 AS RoundedScore FROM Posts\n    ) AS Rounded\nGROUP BY RoundedScore\nORDER BY RoundedScore DESC;",
      "execution_count": null,
      "outputs": []
    },
    {
      "metadata": {},
      "cell_type": "markdown",
      "source": "Can you name the operation of calling a query from inside a query? What are the semantics of the GROUP By and ORDER By operations?\n\nUsing the right constant for the rounding, you can already get a better grasp of the distribution of scores. Here, we round each score to smallest integer multiple of 5 that is still strictly larger. (This is not the greatest way of rounding, but it will do for the purpose of this exercise.)\n\nWe will now execute the same query but from within a Python script. This allows us to send the SQL query results to Matplotlib and plot them. "
    },
    {
      "metadata": {
        "trusted": true
      },
      "cell_type": "code",
      "source": "%matplotlib inline\nimport matplotlib.pyplot as plt\n\n# Store the result of the query in a Python object (add your query here!)\nresult = %sql SELECT RoundedScore, Count(*) AS Count \\\n     FROM ( \\\n             SELECT ROUND((score+2.5)/5, 0) * 5 AS RoundedScore FROM Posts \\\n        ) AS Rounded \\\n     GROUP BY RoundedScore \\\n     ORDER BY RoundedScore DESC;\n\n# Convert the result to a Pandas data frame\ndf = result.DataFrame()\n\n# Extract x and y values for a plot\nx = df['RoundedScore'].tolist()\ny = df['Count'].tolist()\n\n# Print them just for debugging\nprint(x)\nprint(y)\n\n# Plot the distribution of scores\nfig, ax = plt.subplots()\nax.bar(range(len(df.index)), y, tick_label=[int(i) for i in x], align='center')\nax.set_xlabel('Score')\nax.set_ylabel('Number of Posts')",
      "execution_count": null,
      "outputs": []
    },
    {
      "metadata": {},
      "cell_type": "markdown",
      "source": "## Exercise 4: Impact of Score Count on Scores\n\nWe now want to find out whether the number of posts of the owner of a post has an influence of the score of the post.\nTo that goal, write queries that answer the following questions:\n\n1. What are the 10 users with the highest number of posts?\n2. What is the average number of posts per user?\n3. Which are the users with a number of posts higher than 10?\n4. How many such users exist?"
    },
    {
      "metadata": {
        "trusted": true
      },
      "cell_type": "code",
      "source": "%%sql\nSELECT TOP 10 ... \nFROM ... \nJOIN ...",
      "execution_count": null,
      "outputs": []
    },
    {
      "metadata": {
        "trusted": true
      },
      "cell_type": "code",
      "source": "%%sql\nSELECT AVG(CAST(PostCount AS FLOAT)) AS AveragePostCount\nFROM ...\nas PostCount;",
      "execution_count": null,
      "outputs": []
    },
    {
      "metadata": {
        "trusted": true
      },
      "cell_type": "code",
      "source": "%%sql\nSELECT ...",
      "execution_count": null,
      "outputs": []
    },
    {
      "metadata": {
        "trusted": true
      },
      "cell_type": "code",
      "source": "%%sql\nSELECT ...",
      "execution_count": null,
      "outputs": []
    },
    {
      "metadata": {},
      "cell_type": "markdown",
      "source": "## Own exploration\n\nWe recommend that you try to interact with the database and construct your own queries of different semantics and difficulty. Knowledge of SQL is very valuable in disciplines which have to deal with big data volumes stored as a relational data model: the predominant approach for data storage currently is use. "
    },
    {
      "metadata": {},
      "cell_type": "markdown",
      "source": "## Recommended own work: Set up an SQL database with the StackOverflow dataset\n\nThe loading will consist of the following steps:\n1. Create your own SQL server.\n1. Copy our StackOverflow export to your storage account.\n2. Import the database dump into a new SQL database.\n3. Test querying the server.\n\n### Step 1: Create your own SQL server.\n\n(This is an adaptation of [this tutorial](https://azure.microsoft.com/en-us/documentation/articles/sql-database-get-started/).)\n\n1. In the [portal](https://portal.azure.com) in the left menu, click on \"Create a resource\", search for \"SQL server\", then select \"SQL server (logical server)\" and finally \"create\".\n2. Fill in the form below with values of your choice. Your form also asks for a resource group. Create a new resource group, which you may call \"exercise01\". Select \"Pin to dashboard\".\n\n![](https://docs.microsoft.com/en-us/azure/sql-database/media/sql-database-get-started-portal/new-sql-database-basics.png)\n\n3. To check whether the database server has been created, go to \"Resource groups\" in the menu on the left, then open your new resource group (\"exercise01\") from the list. You should see the SQL server in the list.\n\n4. Now to the settings of your database server, then open the firewall settings. Open the firewall for everyone by adding a rule named \"open for all\" with start IP \"0.0.0.0\" and end IP \"255.255.255.255\" in the following form. Click \"save\" to finish.\n\n&nbsp;\n![](https://exerciseassets.blob.core.windows.net/exercise01/firewall.png)\n\n### Step 2: Copy our StackOverflow export to your storage account\n\n1. First you need to create a storage account. (More about that next week!) To do that, go to \"Storage accounts\" in the left menu. Click on \"Add\" at the top of the blade and fill out the following form. Choose the \"exercise01\" resource group, select \"Locally redundant storage (LRS)\" as replication mode, and let all other values at their defaults.\n\n2. Open the new storage account (you may need to wait a while before it has been created), go to \"Access keys\" (under \"Settings\") and copy one of its keys to the clipboard.\n\n&nbsp;\n![Image of Account](https://docs.microsoft.com/en-us/azure/includes/media/storage-view-keys-include/portal-connection-string.png)\n\n3. Paste the key and the account name here. The third variable holds the name of the container (a container is essentially a folder) that we will create a bit later. Run the cell."
    },
    {
      "metadata": {
        "trusted": true
      },
      "cell_type": "code",
      "source": "YOUR_ACCOUNT_KEY    = '...'\nYOUR_ACCOUNT_NAME   = '...'\nYOUR_CONTAINER_NAME = 'exercise01'",
      "execution_count": null,
      "outputs": []
    },
    {
      "metadata": {},
      "cell_type": "markdown",
      "source": "&nbsp;&nbsp;&nbsp; 4\\. Install a management library for Azure storage."
    },
    {
      "metadata": {
        "trusted": true
      },
      "cell_type": "code",
      "source": "!pip install azure-storage==0.33.0",
      "execution_count": null,
      "outputs": []
    },
    {
      "metadata": {},
      "cell_type": "markdown",
      "source": "Now we can get a list of files in the storage container we created for you (again, next week, we will understand a bit better what is going on):"
    },
    {
      "metadata": {
        "trusted": true
      },
      "cell_type": "code",
      "source": "from azure.storage.blob import BlockBlobService\nfrom azure.storage.blob import PageBlobService\nfrom azure.storage.blob import AppendBlobService\nfrom azure.storage.blob import PublicAccess\nfrom azure.storage.models import LocationMode\nfrom azure.storage.blob import ContentSettings\n\n# Name of storage account and container of the course\nCOURSE_ACCOUNT_NAME   = 'bigdataforeng2020'\nCOURSE_CONTAINER_NAME = 'exercise01'\n\n# Connect to it\nblock_blob_service = BlockBlobService(account_name=COURSE_ACCOUNT_NAME)\n\n# List all blobs in course's container\ntry:\n    blobs = block_blob_service.list_blobs(COURSE_CONTAINER_NAME)\n    for blob in blobs:\n        print('Name: {} \\t\\t Type: {}'.format(blob.name,blob.properties.blob_type)) \nexcept:\n    print(\"You don't have an access to %s \"%(COURSE_CONTAINER_NAME))",
      "execution_count": null,
      "outputs": []
    },
    {
      "metadata": {},
      "cell_type": "markdown",
      "source": "&nbsp;&nbsp;&nbsp; 5\\. Finally, we can copy the files from the course's container to a container we create on your account."
    },
    {
      "metadata": {
        "trusted": true
      },
      "cell_type": "code",
      "source": "# Connect to your account\nyour_service = BlockBlobService(account_name=YOUR_ACCOUNT_NAME, account_key=YOUR_ACCOUNT_KEY)\n\n# Create a container where all files will be uploaded\ntry:\n    status = your_service.create_container(YOUR_CONTAINER_NAME)\n    if status == True:\n        print(\"New container has been created\")\n    else:\n        print(\"Container already exists\")\nexcept:\n    print(\"Something went wrong.\")\n\n# Upload files to your storage from course's storage\ntry:\n    blobs = block_blob_service.list_blobs(COURSE_CONTAINER_NAME)\n    for blob in blobs:\n        source = block_blob_service.make_blob_url(COURSE_CONTAINER_NAME,blob.name)\n        your_service.copy_blob(YOUR_CONTAINER_NAME, blob.name, source)\n    print(\"The files have been copied successfully\")\nexcept:\n    print(\"Something went wrong.\")\n\n# List all files in your container\ntry:\n    blobs = your_service.list_blobs(YOUR_CONTAINER_NAME)\n    for blob in blobs:\n        print('Name: {} \\t\\t Type: {}'.format(blob.name,blob.properties.blob_type)) \nexcept:\n    print(\"Something went wrong.\")",
      "execution_count": null,
      "outputs": []
    },
    {
      "metadata": {},
      "cell_type": "markdown",
      "source": "### Step 3: Import the database dump into a new SQL database\nFollow [this guide](https://azure.microsoft.com/en-us/documentation/articles/sql-database-import/) with the SQL server and the ```beer.stackexchange.com.bacpac``` file you uploaded to your account **using the cheapest pricing tier available** (\"B Basic\"). In the form, leave the \"Database name\" field as it is; by default it will take on the name of the ```.bacpac file```, and this is what we need.\n\nImporting the database may take a while. You can check the progress in the alert bubble at the top right of the portal. You can also go the page of your SQL server and open \"Import/Export history\"."
    },
    {
      "metadata": {},
      "cell_type": "markdown",
      "source": "### Step 4: Test querying the server\n\nFirst, let's make sure that the connection library (PyMSSQL) and the SQL extension for Jupyter (ipython-sql) are still installed by running the next cells. If things don't work or you need more explanation what is going on, look at the notebook of last week."
    },
    {
      "metadata": {
        "trusted": true
      },
      "cell_type": "code",
      "source": "!pip install pymssql==2.1.2",
      "execution_count": null,
      "outputs": []
    },
    {
      "metadata": {
        "trusted": true
      },
      "cell_type": "code",
      "source": "!pip install ipython-sql",
      "execution_count": null,
      "outputs": []
    },
    {
      "metadata": {},
      "cell_type": "markdown",
      "source": "Restart the kernel now if the extension was installed anew, then continue. Then fill in and run the following cell."
    },
    {
      "metadata": {
        "trusted": true
      },
      "cell_type": "code",
      "source": "# The name of your server is the one you chose in step 1\nserver='<your-db-name>.database.windows.net'\n\n# The user is of form <your-admin-login>@<your-db-server-name>. You chose both in step 1.\n# <your-db-server-name> is only the part *before* '.database.windows.net'\nuser='<your-admin-login>@<your-db-server-name>'\n\n# The password is the one you chose in step 1\npassword='...'\n\n# This is the name of the database. \n# By default, it will coincide with the name of the .bacpac file that you used above.\n# Warning: if this name contains dashes (-) in it, the subsequent code will not work\ndatabase='beer.stackexchange.com'",
      "execution_count": null,
      "outputs": []
    },
    {
      "metadata": {
        "trusted": true
      },
      "cell_type": "code",
      "source": "%load_ext sql\nconnection_string = 'mssql+pymssql://{user}:{password}@{server}:1433/{database}'.format(\n        server=server, user=user, password=password, database=database)\n%sql $connection_string",
      "execution_count": null,
      "outputs": []
    },
    {
      "metadata": {},
      "cell_type": "markdown",
      "source": "Finally, the following cell should produce a result. (You may need to wait until the import process is complete.)"
    },
    {
      "metadata": {
        "trusted": true
      },
      "cell_type": "code",
      "source": "%%sql\nSELECT TOP 10 Id, DisplayName FROM Users;",
      "execution_count": null,
      "outputs": []
    },
    {
      "metadata": {},
      "cell_type": "markdown",
      "source": "If everything fails, use the credentials of our server from last week. If that fails as well, use the [webinterface](https://data.stackexchange.com/beer/query/new) of StackOverflow to query live data."
    }
  ],
  "metadata": {
    "anaconda-cloud": {},
    "kernelspec": {
      "name": "python3",
      "display_name": "Python 3",
      "language": "python"
    },
    "language_info": {
      "mimetype": "text/x-python",
      "nbconvert_exporter": "python",
      "name": "python",
      "file_extension": ".py",
      "version": "3.5.4",
      "pygments_lexer": "ipython3",
      "codemirror_mode": {
        "version": 3,
        "name": "ipython"
      }
    }
  },
  "nbformat": 4,
  "nbformat_minor": 2
}